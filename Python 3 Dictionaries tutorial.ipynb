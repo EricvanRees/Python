{
 "cells": [
  {
   "cell_type": "code",
   "execution_count": 2,
   "metadata": {},
   "outputs": [
    {
     "data": {
      "text/plain": [
       "8550405"
      ]
     },
     "execution_count": 2,
     "metadata": {},
     "output_type": "execute_result"
    }
   ],
   "source": [
    "# define dictionary \n",
    "\n",
    "city_population = {\"New York City\":8550405, \"Los Angeles\":3971883,\n",
    "                   \"Toronto\":2731571, \"Chicago\":2720546, \"Houston\":2296224, \n",
    "                   \"Montreal\":1704694, \"Calgary\":1239220, \"Vancouver\":631486, \"Boston\":667137}\n",
    "\n",
    "# access dictionary values by using dictionary key:\n",
    "\n",
    "city_population[\"New York City\"]"
   ]
  },
  {
   "cell_type": "code",
   "execution_count": 3,
   "metadata": {},
   "outputs": [
    {
     "data": {
      "text/plain": [
       "{'Boston': 667137,\n",
       " 'Calgary': 1239220,\n",
       " 'Chicago': 2720546,\n",
       " 'Houston': 2296224,\n",
       " 'Los Angeles': 3971883,\n",
       " 'Montreal': 1704694,\n",
       " 'New York City': 8550405,\n",
       " 'Toronto': 2731571,\n",
       " 'Vancouver': 631486}"
      ]
     },
     "execution_count": 3,
     "metadata": {},
     "output_type": "execute_result"
    }
   ],
   "source": [
    "# there is no ordering in dicionaries, new output has different order than first dictionary definition:\n",
    "city_population"
   ]
  },
  {
   "cell_type": "code",
   "execution_count": 4,
   "metadata": {},
   "outputs": [
    {
     "data": {
      "text/plain": [
       "9"
      ]
     },
     "execution_count": 4,
     "metadata": {},
     "output_type": "execute_result"
    }
   ],
   "source": [
    "# len returns number of key/value pairs\n",
    "len(city_population)"
   ]
  },
  {
   "cell_type": "code",
   "execution_count": 5,
   "metadata": {
    "collapsed": true
   },
   "outputs": [],
   "source": [
    "# add element to dictionary:\n",
    "city_population[\"Halifax\"] = 390096"
   ]
  },
  {
   "cell_type": "code",
   "execution_count": 6,
   "metadata": {},
   "outputs": [
    {
     "data": {
      "text/plain": [
       "{'Boston': 667137,\n",
       " 'Calgary': 1239220,\n",
       " 'Chicago': 2720546,\n",
       " 'Halifax': 390096,\n",
       " 'Houston': 2296224,\n",
       " 'Los Angeles': 3971883,\n",
       " 'Montreal': 1704694,\n",
       " 'New York City': 8550405,\n",
       " 'Toronto': 2731571,\n",
       " 'Vancouver': 631486}"
      ]
     },
     "execution_count": 6,
     "metadata": {},
     "output_type": "execute_result"
    }
   ],
   "source": [
    "city_population"
   ]
  },
  {
   "cell_type": "code",
   "execution_count": 7,
   "metadata": {
    "collapsed": true
   },
   "outputs": [],
   "source": [
    "# define new dictionary\n",
    "city = {}"
   ]
  },
  {
   "cell_type": "code",
   "execution_count": 8,
   "metadata": {},
   "outputs": [
    {
     "data": {
      "text/plain": [
       "{}"
      ]
     },
     "execution_count": 8,
     "metadata": {},
     "output_type": "execute_result"
    }
   ],
   "source": [
    "# dictionary is empty\n",
    "city"
   ]
  },
  {
   "cell_type": "code",
   "execution_count": 9,
   "metadata": {},
   "outputs": [
    {
     "name": "stdout",
     "output_type": "stream",
     "text": [
      "The city of Amsterdam is in The Netherlands\n",
      "The first value of the colors library is true\n"
     ]
    }
   ],
   "source": [
    "colors = {\n",
    "    \"red\": \"true\",\n",
    "    \"blue\": \"false\",\n",
    "    \"green\": \"true\",\n",
    "    \"yellow\": \"false\"\n",
    "}\n",
    "\n",
    "cities = {\n",
    "    \"Amsterdam\": \"The Netherlands\",\n",
    "    \"Granada\": \"Spain\",\n",
    "    \"Berlin\": \"Germany\",\n",
    "    \"Madrid\": \"Spain\"    \n",
    "}\n",
    "\n",
    "print(\"The city of Amsterdam is in \" + cities[\"Amsterdam\"])\n",
    "print(\"The first value of the colors library is \" + str(colors.get(\"red\")))"
   ]
  },
  {
   "cell_type": "code",
   "execution_count": 10,
   "metadata": {},
   "outputs": [
    {
     "name": "stdout",
     "output_type": "stream",
     "text": [
      "dict_keys(['red', 'blue', 'green', 'yellow'])\n"
     ]
    }
   ],
   "source": [
    "# print keys from a dictionary\n",
    "print(colors.keys())"
   ]
  },
  {
   "cell_type": "code",
   "execution_count": 11,
   "metadata": {},
   "outputs": [
    {
     "name": "stdout",
     "output_type": "stream",
     "text": [
      "dict_values(['true', 'false', 'true', 'false'])\n"
     ]
    }
   ],
   "source": [
    "# print values from a dictionary\n",
    "print(colors.values())"
   ]
  },
  {
   "cell_type": "code",
   "execution_count": 12,
   "metadata": {},
   "outputs": [
    {
     "name": "stdout",
     "output_type": "stream",
     "text": [
      "red\n",
      "blue\n",
      "green\n",
      "yellow\n"
     ]
    }
   ],
   "source": [
    "# print keys using for loop:\n",
    "for k in colors:\n",
    "    print(k)"
   ]
  },
  {
   "cell_type": "code",
   "execution_count": 13,
   "metadata": {},
   "outputs": [
    {
     "name": "stdout",
     "output_type": "stream",
     "text": [
      "true\n",
      "false\n",
      "true\n",
      "false\n"
     ]
    }
   ],
   "source": [
    "# print values using for loop:\n",
    "for v in colors:\n",
    "    print(colors[v])"
   ]
  },
  {
   "cell_type": "code",
   "execution_count": 14,
   "metadata": {},
   "outputs": [
    {
     "name": "stdout",
     "output_type": "stream",
     "text": [
      "red false\n",
      "blue false\n",
      "green false\n",
      "yellow false\n"
     ]
    }
   ],
   "source": [
    "# print keys and values in a single for loop\n",
    "for i in colors:\n",
    "    print(i, colors[v])"
   ]
  },
  {
   "cell_type": "code",
   "execution_count": 15,
   "metadata": {},
   "outputs": [
    {
     "name": "stdout",
     "output_type": "stream",
     "text": [
      "red true\n",
      "blue false\n",
      "green true\n",
      "yellow false\n"
     ]
    }
   ],
   "source": [
    "# same results, returns a tuple of key and value\n",
    "for k, v in colors.items():\n",
    "    print(k, v)"
   ]
  },
  {
   "cell_type": "code",
   "execution_count": 16,
   "metadata": {},
   "outputs": [
    {
     "name": "stdout",
     "output_type": "stream",
     "text": [
      "red\n",
      "green\n"
     ]
    }
   ],
   "source": [
    "# reference keys using values in a for loop:\n",
    "for key, value in colors.items():\n",
    "    if value == \"true\":\n",
    "        print(key) "
   ]
  },
  {
   "cell_type": "code",
   "execution_count": 17,
   "metadata": {},
   "outputs": [
    {
     "name": "stdout",
     "output_type": "stream",
     "text": [
      "red\n"
     ]
    }
   ],
   "source": [
    "# the same as in the example above, but it separates the dictionary's values in a list, \n",
    "# finds the position of the value you have, and gets the key at that position\n",
    "# Prints \"red - returns only the first value, not multiple as above\"\n",
    "\n",
    "print(list(colors.keys())[list(colors.values()).index(\"true\")]) "
   ]
  },
  {
   "cell_type": "code",
   "execution_count": 18,
   "metadata": {},
   "outputs": [
    {
     "data": {
      "text/plain": [
       "'Yes'"
      ]
     },
     "execution_count": 18,
     "metadata": {},
     "output_type": "execute_result"
    }
   ],
   "source": [
    "# Reference one dictionary with the other\n",
    "ne_en = {\n",
    "    \"Ja\": \"Yes\",\n",
    "    \"Nee\": \"No\"\n",
    "}\n",
    "\n",
    "sp_ne = {\n",
    "    \"Si\": \"Ja\",\n",
    "    \"No\": \"Nee\"\n",
    "}\n",
    "\n",
    "ne_en[sp_ne[\"Si\"]]"
   ]
  },
  {
   "cell_type": "code",
   "execution_count": 19,
   "metadata": {
    "collapsed": true
   },
   "outputs": [],
   "source": [
    "#create a dictionary of dictionaries, using the two dicts of last example:\n",
    "\n",
    "dictionaries = {\"ne_en\": ne_en, \"sp_ne\": sp_ne}"
   ]
  },
  {
   "cell_type": "code",
   "execution_count": 20,
   "metadata": {},
   "outputs": [
    {
     "data": {
      "text/plain": [
       "{'ne_en': {'Ja': 'Yes', 'Nee': 'No'}, 'sp_ne': {'No': 'Nee', 'Si': 'Ja'}}"
      ]
     },
     "execution_count": 20,
     "metadata": {},
     "output_type": "execute_result"
    }
   ],
   "source": [
    "dictionaries"
   ]
  }
 ],
 "metadata": {
  "kernelspec": {
   "display_name": "Python 3",
   "language": "python",
   "name": "python3"
  },
  "language_info": {
   "codemirror_mode": {
    "name": "ipython",
    "version": 3
   },
   "file_extension": ".py",
   "mimetype": "text/x-python",
   "name": "python",
   "nbconvert_exporter": "python",
   "pygments_lexer": "ipython3",
   "version": "3.6.2"
  }
 },
 "nbformat": 4,
 "nbformat_minor": 2
}
