{
 "cells": [
  {
   "cell_type": "markdown",
   "metadata": {},
   "source": [
    "<h1>Expressions and output</h1>\n",
    "\n",
    "<h2>Expressions, operators and data types</h2>\n",
    "\n",
    "numeric operands tower:\n",
    "\n",
    "*complex\n",
    "\n",
    "*float\n",
    "\n",
    "*fractions.Fraction\n",
    "\n",
    "*ecimal.Decimal\n",
    "\n",
    "*int\n",
    "\n",
    "The idea behind the tower is that many arithmetic operators coerce operands up the\n",
    "tower from integer to float to complex\n",
    "\n",
    "We can group operators into a number of categories.\n",
    "\n",
    "• Arithmetic: +, -, *, **, /, //, %\n",
    "\n",
    "• Bit-oriented: <<, >>, &, |, ^, ~\n",
    "\n",
    "• Comparison: <, >, <=, >=, ==, !="
   ]
  },
  {
   "cell_type": "markdown",
   "metadata": {},
   "source": [
    "<h2>Using operators on non-numeric data</h2>"
   ]
  },
  {
   "cell_type": "code",
   "execution_count": 1,
   "metadata": {},
   "outputs": [
    {
     "data": {
      "text/plain": [
       "'hello world'"
      ]
     },
     "execution_count": 1,
     "metadata": {},
     "output_type": "execute_result"
    }
   ],
   "source": [
    "# We can apply some of the arithmetic operators to strings, bytes, and tuples.\n",
    "\n",
    "\"hello \" + \"world\""
   ]
  },
  {
   "cell_type": "code",
   "execution_count": 2,
   "metadata": {},
   "outputs": [
    {
     "data": {
      "text/plain": [
       "'<+++><+++><+++><+++><+++><+++><+++><+++><+++>'"
      ]
     },
     "execution_count": 2,
     "metadata": {},
     "output_type": "execute_result"
    }
   ],
   "source": [
    "\"<+++>\"*9"
   ]
  },
  {
   "cell_type": "markdown",
   "metadata": {},
   "source": [
    "<h2>The print() function</h2>"
   ]
  },
  {
   "cell_type": "code",
   "execution_count": 3,
   "metadata": {},
   "outputs": [
    {
     "name": "stdout",
     "output_type": "stream",
     "text": [
      "value 3.1415929203539825\n"
     ]
    }
   ],
   "source": [
    "'''The strings are combined with a default separator of ' ' and printed with a default \n",
    "line ending of '\\n'. We can change the separator and line ending characters.\n",
    "\n",
    "Note that the sep and end parameters must be provided by name; these are called\n",
    "keyword arguments'''\n",
    "\n",
    "print(\"value\", 355/113)"
   ]
  },
  {
   "cell_type": "code",
   "execution_count": 4,
   "metadata": {},
   "outputs": [
    {
     "name": "stdout",
     "output_type": "stream",
     "text": [
      "value=3.1415929203539825\n"
     ]
    }
   ],
   "source": [
    "print(\"value\", 355/113, sep='=')"
   ]
  },
  {
   "cell_type": "code",
   "execution_count": 7,
   "metadata": {},
   "outputs": [
    {
     "name": "stdout",
     "output_type": "stream",
     "text": [
      "value=3.1415929203539825!\n"
     ]
    }
   ],
   "source": [
    "print(\"value\", 355/113, sep='=', end='!\\n')"
   ]
  },
  {
   "cell_type": "code",
   "execution_count": 13,
   "metadata": {},
   "outputs": [
    {
     "name": "stderr",
     "output_type": "stream",
     "text": [
      "This is an Error Message\n"
     ]
    }
   ],
   "source": [
    "'''We've imported the sys module. This contains definitions of sys.stderr and\n",
    "sys.stdout for the standard output files. By using the file= keyword parameter,\n",
    "we can direct a specific line of output to the stderr file instead of the default\n",
    "of stdout.'''\n",
    "\n",
    "import sys\n",
    "print(\"This is an Error Message\", file=sys.stderr)"
   ]
  },
  {
   "cell_type": "markdown",
   "metadata": {},
   "source": [
    "<h2>Examining syntax rules</h2>\n",
    "\n",
    "There are nine fundamental syntax rules in section 2.1 of the Python Language\n",
    "Reference:\n",
    "1. There are two species of statements: simple and compound.\n",
    "2. A physical line ends with \\n.\n",
    "3. A comment starts with # and continues to the end of the physical line.\n",
    "4. A special comment can be used to annotate the file encoding.\n",
    "5. Physical lines can be joined explicitly into a logical line using the \\ as an\n",
    "escape character in front of the physical end-of-line character.\n",
    "6. Physical lines can be joined implicitly into a logical line using (), [], or {};\n",
    "these must pair properly for the logical line to be complete.\n",
    "7. Blank lines contain only spaces, tabs and newlines.\n",
    "8. Leading whitespace is required to properly group statements inside the\n",
    "clauses of compound statements. Consistency is essential. A four space indent is widely used and\n",
    "strongly encouraged.\n",
    "9. Except at the beginning of the line,—where it determines nesting of compound\n",
    "statements—whitespace can be used freely between tokens.\n"
   ]
  },
  {
   "cell_type": "markdown",
   "metadata": {},
   "source": [
    "<h2>Splitting, partitioning and joining strings</h2>\n",
    "The split() method is used to locate repeated list-like structures within a string. \n",
    "\n",
    "The partition() method is used to separate the head and tail of a string."
   ]
  },
  {
   "cell_type": "code",
   "execution_count": 14,
   "metadata": {},
   "outputs": [
    {
     "data": {
      "text/plain": [
       "['mynumber=38889', 'mynumber2=999887']"
      ]
     },
     "execution_count": 14,
     "metadata": {},
     "output_type": "execute_result"
    }
   ],
   "source": [
    "text=\"mynumber=38889,mynumber2=999887\"\n",
    "text.split(\",\")"
   ]
  },
  {
   "cell_type": "code",
   "execution_count": 15,
   "metadata": {
    "collapsed": true
   },
   "outputs": [],
   "source": [
    "# references output of last cell\n",
    "items=_"
   ]
  },
  {
   "cell_type": "code",
   "execution_count": 16,
   "metadata": {},
   "outputs": [
    {
     "data": {
      "text/plain": [
       "('mynumber', '=', '38889')"
      ]
     },
     "execution_count": 16,
     "metadata": {},
     "output_type": "execute_result"
    }
   ],
   "source": [
    "items[0].partition(\"=\")"
   ]
  },
  {
   "cell_type": "code",
   "execution_count": 17,
   "metadata": {},
   "outputs": [
    {
     "data": {
      "text/plain": [
       "('mynumber2', '=', '999887')"
      ]
     },
     "execution_count": 17,
     "metadata": {},
     "output_type": "execute_result"
    }
   ],
   "source": [
    "items[1].partition(\"=\")"
   ]
  },
  {
   "cell_type": "code",
   "execution_count": 18,
   "metadata": {},
   "outputs": [
    {
     "data": {
      "text/plain": [
       "'x|y|z'"
      ]
     },
     "execution_count": 18,
     "metadata": {},
     "output_type": "execute_result"
    }
   ],
   "source": [
    "'''We used the partition(\"=\") method on each item in the items variable to break\n",
    "the assignment down into name, =, and value.\n",
    "\n",
    "The join() method is the inverse of the split() method.'''\n",
    "\n",
    "options = (\"x\", \"y\", \"z\")\n",
    "\"|\".join(options)\n",
    "\n",
    "'''We've created a sequence of three strings and assigned it to a variable named\n",
    "options. We then used the string \"|\" to join the items in the options sequence.\n",
    "The result is a longer string with the items separated by the given string.'''"
   ]
  },
  {
   "cell_type": "markdown",
   "metadata": {},
   "source": [
    "<h2>Using the format() method to make more readable output</h2>"
   ]
  },
  {
   "cell_type": "code",
   "execution_count": 20,
   "metadata": {},
   "outputs": [
    {
     "data": {
      "text/plain": [
       "'42ºC is  107.6ºF'"
      ]
     },
     "execution_count": 20,
     "metadata": {},
     "output_type": "execute_result"
    }
   ],
   "source": [
    "'''Sophisticated string creation can be done with the format() method. We create\n",
    "a template string and values which can be plugged into the template.'''\n",
    "\n",
    "c = 42\n",
    "\"{0:d}ºC is {1: .1f}ºF\".format(c, 32+9*c/5)"
   ]
  },
  {
   "cell_type": "markdown",
   "metadata": {},
   "source": [
    "<h2>Summary of the standard string libraries</h2>\n",
    "Python's standard library offers a number of modules with additional string\n",
    "processing features:\n",
    "1. string: The string module contains constants that decompose the ASCII\n",
    "characters into letters, numbers, whitespace, and so on. It contains the full\n",
    "definition of the formatter that is used by the str.format() method.\n",
    "2. re: The regular expression library allows us to define a pattern that can be\n",
    "used to parse input strings.\n",
    "3. difflib: The difflib module is used to compare sequences of strings,\n",
    "typically from text files.\n",
    "4. textwrap: We can use the textwrap module to format large blocks of text.\n",
    "5. unicodedata: The unicodedata module provides functions for determining\n",
    "what kind of Unicode character is present.\n",
    "6. stringprep: This is an implementation of RFC 3454, which prepares\n",
    "Unicode text strings in order to support sensible string comparisons"
   ]
  },
  {
   "cell_type": "markdown",
   "metadata": {},
   "source": [
    "<h2>Using the re module to parse strings</h2>\n",
    "\n",
    "Regular expressions give us a simple way to specify a set of related strings by\n",
    "describing the pattern they have in common. A regular expression is an element\n",
    "of set theory that could (in theory) define the set of all possible related strings.\n",
    "\n",
    "When we use the re module, we generally do three things. Firstly, we specify\n",
    "the pattern string. Secondly, we compile the pattern into an object that efficiently\n",
    "determines if and where a given string matches the pattern. Finally, we repeatedly\n",
    "use the pattern object to efficiently match, search, or parse the given input strings.\n",
    "\n",
    "We may perform any of the following three common kinds of processing:\n",
    "\n",
    "• A matching regular expression might be Birth Date:\\s+\\d+/\\d+/\\d+. The\n",
    "\\s+ subexpression means one or more spaces. The \\d+ subexpression of this\n",
    "means one or more digits. A match pattern is usually designed to match the\n",
    "whole string.\n",
    "\n",
    "• A searching regular expression might be \\d+/\\d+/\\d+. This search pattern\n",
    "includes one or more digits, \\d+, and literal punctuation, /. This expression\n",
    "describes a substring that can be found somewhere within the given string.\n",
    "\n",
    "• A parsing pattern separates the various digit groups from the surrounding\n",
    "context. This is a slight modification to one of the previous examples to\n",
    "include (), that specifies what to capture. We might use (\\d+)/(\\d+)/(\\d+)\n",
    "to show that the digit groups should be extracted for further processing."
   ]
  },
  {
   "cell_type": "markdown",
   "metadata": {},
   "source": [
    "<h2>Using regular expressions</h2>\n",
    "\n",
    "The general recipe for using regular expressions in a Python program has three\n",
    "essential steps:\n",
    "    \n",
    "1. Define the pattern string.\n",
    "\n",
    "2. Evaluate the re.compile() function to create a pattern object.\n",
    "\n",
    "3. Use the compiled pattern object to match or search the candidate strings."
   ]
  },
  {
   "cell_type": "code",
   "execution_count": 39,
   "metadata": {},
   "outputs": [],
   "source": [
    "import re\n",
    "# ad 1\n",
    "r\"\\d+/\\d+/\\d+\"\n",
    "# ad 2 \".\" Matches any single character except newline.\n",
    "date_pattern = re.compile(r\"Birth Date:\\s+(.*)\")\n",
    "# ad 3\n",
    "match = date_pattern.match(\"Birth Date: ??????\")"
   ]
  },
  {
   "cell_type": "code",
   "execution_count": 40,
   "metadata": {},
   "outputs": [
    {
     "data": {
      "text/plain": [
       "<_sre.SRE_Match object; span=(0, 18), match='Birth Date: ??????'>"
      ]
     },
     "execution_count": 40,
     "metadata": {},
     "output_type": "execute_result"
    }
   ],
   "source": [
    "# here, the given string did match the regular expression pattern, and a Match object was created.\n",
    "match"
   ]
  },
  {
   "cell_type": "markdown",
   "metadata": {},
   "source": [
    "<h2>Creating a regular expression string</h2>\n",
    "\n",
    "Here's a pattern we might use to parse some input: r\"(\\w+)\\s*[=:]\\s*(.*)\"\n",
    "\n",
    "This is a regular expression which is a sequence of 5 regular expressions.\n",
    "\n",
    "• The characters (\\w+) make a regular expression, \\w, with a + suffix enclosed\n",
    "in (). This matches any sequence of one or more word characters.\n",
    "\n",
    "• \\s* is a regular expression. It's a simple expression \\s with a suffix of *.\n",
    "It matches zero or more whitespace characters. This means that spaces\n",
    "are optional after the initial word. If spaces are present, any number may\n",
    "be used.\n",
    "\n",
    "• [=:] is a regular expression built from two single-character expressions, =\n",
    "and :.   \n",
    "It matches either one of the two characters.\n",
    "    \n",
    "• \\s* is used a second time to permit any number of whitespace characters between the = or : and the value.\n",
    "    \n",
    "• The final regular expression is (.*) which matches any sequence of characters."
   ]
  },
  {
   "cell_type": "markdown",
   "metadata": {},
   "source": [
    "<h2>Working with Unicode, ASCII, and bytes</h2>\n",
    "\n",
    "The re module works with bytes as well as Unicode strings. We must provide\n",
    "proper pattern literals depending on which kind of string we're working with.\n",
    "With Unicode, we use pattern literals with the r prefix: r\"\\w+\". With bytes, we use\n",
    "the rb prefix, rb\"\\w+\"; the rb means raw bytes instead of raw Unicode characters."
   ]
  }
 ],
 "metadata": {
  "kernelspec": {
   "display_name": "Python 3",
   "language": "python",
   "name": "python3"
  },
  "language_info": {
   "codemirror_mode": {
    "name": "ipython",
    "version": 3
   },
   "file_extension": ".py",
   "mimetype": "text/x-python",
   "name": "python",
   "nbconvert_exporter": "python",
   "pygments_lexer": "ipython3",
   "version": "3.6.2"
  }
 },
 "nbformat": 4,
 "nbformat_minor": 2
}
