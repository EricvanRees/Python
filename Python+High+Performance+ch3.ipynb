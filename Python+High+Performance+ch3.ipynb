{
 "cells": [
  {
   "cell_type": "markdown",
   "metadata": {},
   "source": [
    "<h1>Chapter 3: Fast Array Operations with NumPy and Pandas</h1>\n",
    "\n",
    "<h1>Getting started with NumPy</h1>\n",
    "<h2>Creating arrays</h2>"
   ]
  },
  {
   "cell_type": "code",
   "execution_count": 5,
   "metadata": {},
   "outputs": [
    {
     "data": {
      "text/plain": [
       "array([0, 1, 2])"
      ]
     },
     "execution_count": 5,
     "metadata": {},
     "output_type": "execute_result"
    }
   ],
   "source": [
    "# create a numpy array\n",
    "import numpy as np\n",
    "a = np.array([0, 1, 2])\n",
    "a"
   ]
  },
  {
   "cell_type": "code",
   "execution_count": 6,
   "metadata": {},
   "outputs": [
    {
     "data": {
      "text/plain": [
       "dtype('int32')"
      ]
     },
     "execution_count": 6,
     "metadata": {},
     "output_type": "execute_result"
    }
   ],
   "source": [
    "# inspect datatype\n",
    "a.dtype"
   ]
  },
  {
   "cell_type": "code",
   "execution_count": 7,
   "metadata": {},
   "outputs": [
    {
     "data": {
      "text/plain": [
       "array([ 1.,  2.,  3.], dtype=float32)"
      ]
     },
     "execution_count": 7,
     "metadata": {},
     "output_type": "execute_result"
    }
   ],
   "source": [
    "# change datatype\n",
    "a = np.array([1, 2, 3], dtype='float32')\n",
    "a.astype('float32')"
   ]
  },
  {
   "cell_type": "code",
   "execution_count": 8,
   "metadata": {},
   "outputs": [
    {
     "name": "stdout",
     "output_type": "stream",
     "text": [
      "[[0 1 2]\n",
      " [3 4 5]]\n"
     ]
    }
   ],
   "source": [
    "# create a 2D numpy array (= array in array)\n",
    "a = np.array([[0, 1, 2], [3, 4, 5]])\n",
    "print(a)"
   ]
  },
  {
   "cell_type": "code",
   "execution_count": 9,
   "metadata": {},
   "outputs": [
    {
     "data": {
      "text/plain": [
       "(2, 3)"
      ]
     },
     "execution_count": 9,
     "metadata": {},
     "output_type": "execute_result"
    }
   ],
   "source": [
    "# new array has 2 rows, 3 columns\n",
    "a.shape"
   ]
  },
  {
   "cell_type": "code",
   "execution_count": 10,
   "metadata": {},
   "outputs": [
    {
     "data": {
      "text/plain": [
       "(16,)"
      ]
     },
     "execution_count": 10,
     "metadata": {},
     "output_type": "execute_result"
    }
   ],
   "source": [
    "# 1: create an array and reshape it next to multi-dimensional array\n",
    "a = np.array([0, 1, 2, 3, 4, 5, 6, 7, 8, \n",
    "             9, 10, 11, 12, 13, 14, 15])\n",
    "a.shape"
   ]
  },
  {
   "cell_type": "code",
   "execution_count": 11,
   "metadata": {},
   "outputs": [
    {
     "data": {
      "text/plain": [
       "array([[ 0,  1,  2,  3],\n",
       "       [ 4,  5,  6,  7],\n",
       "       [ 8,  9, 10, 11],\n",
       "       [12, 13, 14, 15]])"
      ]
     },
     "execution_count": 11,
     "metadata": {},
     "output_type": "execute_result"
    }
   ],
   "source": [
    "# 2 reshape to 4x4 array\n",
    "a.reshape(4,4)"
   ]
  },
  {
   "cell_type": "code",
   "execution_count": 12,
   "metadata": {},
   "outputs": [
    {
     "data": {
      "text/plain": [
       "array([[ 0.,  0.,  0.],\n",
       "       [ 0.,  0.,  0.],\n",
       "       [ 0.,  0.,  0.]])"
      ]
     },
     "execution_count": 12,
     "metadata": {},
     "output_type": "execute_result"
    }
   ],
   "source": [
    "# create array filled with zeros\n",
    "np.zeros((3, 3))"
   ]
  },
  {
   "cell_type": "code",
   "execution_count": 13,
   "metadata": {},
   "outputs": [
    {
     "data": {
      "text/plain": [
       "array([[ 0.,  0.,  0.],\n",
       "       [ 0.,  0.,  0.],\n",
       "       [ 0.,  0.,  0.]])"
      ]
     },
     "execution_count": 13,
     "metadata": {},
     "output_type": "execute_result"
    }
   ],
   "source": [
    "# create array filled with zeros\n",
    "np.empty((3, 3))"
   ]
  },
  {
   "cell_type": "code",
   "execution_count": 14,
   "metadata": {},
   "outputs": [
    {
     "data": {
      "text/plain": [
       "array([[ 1.,  1.,  1.],\n",
       "       [ 1.,  1.,  1.],\n",
       "       [ 1.,  1.,  1.]], dtype=float32)"
      ]
     },
     "execution_count": 14,
     "metadata": {},
     "output_type": "execute_result"
    }
   ],
   "source": [
    "# create array filled with ones\n",
    "np.ones((3, 3), dtype='float32')"
   ]
  },
  {
   "cell_type": "code",
   "execution_count": 15,
   "metadata": {},
   "outputs": [
    {
     "data": {
      "text/plain": [
       "array([[ 0.9464486 ,  0.71046674,  0.96777608],\n",
       "       [ 0.04026651,  0.73012033,  0.90086184],\n",
       "       [ 0.27430755,  0.67480664,  0.63308175]])"
      ]
     },
     "execution_count": 15,
     "metadata": {},
     "output_type": "execute_result"
    }
   ],
   "source": [
    "# create array filled with random integers between 0 and 1\n",
    "np.random.rand(3, 3)"
   ]
  },
  {
   "cell_type": "code",
   "execution_count": 16,
   "metadata": {},
   "outputs": [
    {
     "data": {
      "text/plain": [
       "array([0, 0, 0, 0, 0, 0, 0, 0, 0, 0, 0, 0, 0, 0, 0, 0])"
      ]
     },
     "execution_count": 16,
     "metadata": {},
     "output_type": "execute_result"
    }
   ],
   "source": [
    "# create array with same size as other array (1)\n",
    "np.zeros_like(a)"
   ]
  },
  {
   "cell_type": "code",
   "execution_count": 17,
   "metadata": {},
   "outputs": [
    {
     "data": {
      "text/plain": [
       "array([0, 0, 0, 0, 0, 0, 0, 0, 0, 0, 0, 0, 0, 0, 0, 0])"
      ]
     },
     "execution_count": 17,
     "metadata": {},
     "output_type": "execute_result"
    }
   ],
   "source": [
    "# create array with same size as other array (2)\n",
    "np.empty_like(a)"
   ]
  },
  {
   "cell_type": "code",
   "execution_count": 18,
   "metadata": {},
   "outputs": [
    {
     "data": {
      "text/plain": [
       "array([1, 1, 1, 1, 1, 1, 1, 1, 1, 1, 1, 1, 1, 1, 1, 1])"
      ]
     },
     "execution_count": 18,
     "metadata": {},
     "output_type": "execute_result"
    }
   ],
   "source": [
    "# create array with same size as other array (3)\n",
    "np.ones_like(a)"
   ]
  },
  {
   "cell_type": "markdown",
   "metadata": {},
   "source": [
    "<h2>Accessing arrays</h2>"
   ]
  },
  {
   "cell_type": "code",
   "execution_count": 19,
   "metadata": {},
   "outputs": [
    {
     "data": {
      "text/plain": [
       "0"
      ]
     },
     "execution_count": 19,
     "metadata": {},
     "output_type": "execute_result"
    }
   ],
   "source": [
    "# NumPy arrays can be indexed using integers \n",
    "A = np.array([0, 1, 2, 3, 4, 5, 6, 7, 8])\n",
    "A[0]"
   ]
  },
  {
   "cell_type": "code",
   "execution_count": 20,
   "metadata": {},
   "outputs": [
    {
     "data": {
      "text/plain": [
       "[0, 1, 2, 3, 4, 5, 6, 7, 8]"
      ]
     },
     "execution_count": 20,
     "metadata": {},
     "output_type": "execute_result"
    }
   ],
   "source": [
    "# NumPy arrays can be iterated using a for loop\n",
    "[a for a in A]"
   ]
  },
  {
   "cell_type": "code",
   "execution_count": 21,
   "metadata": {},
   "outputs": [
    {
     "data": {
      "text/plain": [
       "array([0, 1, 2])"
      ]
     },
     "execution_count": 21,
     "metadata": {},
     "output_type": "execute_result"
    }
   ],
   "source": [
    "# A[0] returns the first row of multi-dimensional array\n",
    "A = np.array([[0, 1, 2], [3, 4, 5], [6, 7, 8]])\n",
    "A[0]"
   ]
  },
  {
   "cell_type": "code",
   "execution_count": 22,
   "metadata": {},
   "outputs": [
    {
     "data": {
      "text/plain": [
       "1"
      ]
     },
     "execution_count": 22,
     "metadata": {},
     "output_type": "execute_result"
    }
   ],
   "source": [
    "# adding a comma indexes the same row, returning the second element of the first row\n",
    "A[0, 1]"
   ]
  },
  {
   "cell_type": "code",
   "execution_count": 23,
   "metadata": {},
   "outputs": [
    {
     "data": {
      "text/plain": [
       "1"
      ]
     },
     "execution_count": 23,
     "metadata": {},
     "output_type": "execute_result"
    }
   ],
   "source": [
    "# equivalent version using tuple\n",
    "A[(0, 1)]"
   ]
  },
  {
   "cell_type": "code",
   "execution_count": 24,
   "metadata": {},
   "outputs": [
    {
     "data": {
      "text/plain": [
       "array([[0, 1, 2],\n",
       "       [3, 4, 5]])"
      ]
     },
     "execution_count": 24,
     "metadata": {},
     "output_type": "execute_result"
    }
   ],
   "source": [
    "# slice an array into multiple dimensions, in this case the first dimension, creating triplets\n",
    "A[0:2]"
   ]
  },
  {
   "cell_type": "code",
   "execution_count": 25,
   "metadata": {},
   "outputs": [
    {
     "data": {
      "text/plain": [
       "array([[0, 1],\n",
       "       [3, 4]])"
      ]
     },
     "execution_count": 25,
     "metadata": {},
     "output_type": "execute_result"
    }
   ],
   "source": [
    "# slice newly sliced array again into multiple dimensions, resulting in a (2,2) array\n",
    "A[0:2, 0:2]"
   ]
  },
  {
   "cell_type": "code",
   "execution_count": 26,
   "metadata": {
    "collapsed": true
   },
   "outputs": [],
   "source": [
    "# update array value using numerical index: first row, second column\n",
    "A[0, 1] = 8"
   ]
  },
  {
   "cell_type": "code",
   "execution_count": 27,
   "metadata": {},
   "outputs": [
    {
     "data": {
      "text/plain": [
       "array([[0, 8, 2],\n",
       "       [3, 4, 5],\n",
       "       [6, 7, 8]])"
      ]
     },
     "execution_count": 27,
     "metadata": {},
     "output_type": "execute_result"
    }
   ],
   "source": [
    "A"
   ]
  },
  {
   "cell_type": "code",
   "execution_count": 28,
   "metadata": {
    "collapsed": true
   },
   "outputs": [],
   "source": [
    "# update array value using a slice\n",
    "A[0:2, 0:2] = [[1, 1], [1, 1]]"
   ]
  },
  {
   "cell_type": "code",
   "execution_count": 29,
   "metadata": {},
   "outputs": [
    {
     "data": {
      "text/plain": [
       "array([[1, 1, 2],\n",
       "       [1, 1, 5],\n",
       "       [6, 7, 8]])"
      ]
     },
     "execution_count": 29,
     "metadata": {},
     "output_type": "execute_result"
    }
   ],
   "source": [
    "A"
   ]
  },
  {
   "cell_type": "code",
   "execution_count": 30,
   "metadata": {},
   "outputs": [
    {
     "name": "stdout",
     "output_type": "stream",
     "text": [
      "[2 1 1 1]\n"
     ]
    }
   ],
   "source": [
    "# NumPy slicing is fast as it returns a view from the same memory data\n",
    "a = np.array([1, 1, 1, 1])\n",
    "a_view = a[0:2]\n",
    "a_view[0] = 2\n",
    "print(a)"
   ]
  },
  {
   "cell_type": "code",
   "execution_count": 31,
   "metadata": {},
   "outputs": [
    {
     "data": {
      "text/plain": [
       "array([[ 0.40494445,  0.68981745],\n",
       "       [ 0.24217951,  0.75073032],\n",
       "       [ 0.75905485,  0.02845574],\n",
       "       [ 0.13907367,  0.97277194],\n",
       "       [ 0.29383485,  0.6415592 ],\n",
       "       [ 0.67488674,  0.87097062],\n",
       "       [ 0.19633667,  0.93073169],\n",
       "       [ 0.30031634,  0.64278415],\n",
       "       [ 0.83314945,  0.27226685],\n",
       "       [ 0.17498297,  0.99799608]])"
      ]
     },
     "execution_count": 31,
     "metadata": {},
     "output_type": "execute_result"
    }
   ],
   "source": [
    "# example of slicing syntax of numpy array\n",
    "# step 1: define array of ten rows, two columns with x-y coordinates\n",
    "r_i = np.random.rand(10, 2)\n",
    "r_i"
   ]
  },
  {
   "cell_type": "code",
   "execution_count": 32,
   "metadata": {},
   "outputs": [
    {
     "data": {
      "text/plain": [
       "array([ 0.40494445,  0.24217951,  0.75905485,  0.13907367,  0.29383485,\n",
       "        0.67488674,  0.19633667,  0.30031634,  0.83314945,  0.17498297])"
      ]
     },
     "execution_count": 32,
     "metadata": {},
     "output_type": "execute_result"
    }
   ],
   "source": [
    "# step 2: slice every index on the first axis = first column\n",
    "x_i = r_i[:, 0]\n",
    "x_i"
   ]
  },
  {
   "cell_type": "code",
   "execution_count": 33,
   "metadata": {},
   "outputs": [
    {
     "data": {
      "text/plain": [
       "array([ 0.40494445,  0.68981745])"
      ]
     },
     "execution_count": 33,
     "metadata": {},
     "output_type": "execute_result"
    }
   ],
   "source": [
    "# step 3: returning only the first coordinate\n",
    "r_0 = r_i[0, :]\n",
    "r_0"
   ]
  },
  {
   "cell_type": "code",
   "execution_count": 34,
   "metadata": {},
   "outputs": [
    {
     "data": {
      "text/plain": [
       "array([ 0.40494445,  0.68981745])"
      ]
     },
     "execution_count": 34,
     "metadata": {},
     "output_type": "execute_result"
    }
   ],
   "source": [
    "# step 4, does the same as step 3\n",
    "r_i[0]"
   ]
  },
  {
   "cell_type": "code",
   "execution_count": 35,
   "metadata": {},
   "outputs": [
    {
     "data": {
      "text/plain": [
       "array([9, 7, 6])"
      ]
     },
     "execution_count": 35,
     "metadata": {},
     "output_type": "execute_result"
    }
   ],
   "source": [
    "# example of fancy indexing: indexing an array with another Numpy array\n",
    "# step 1, define array and array used for indexing:\n",
    "a = np.array([9, 8, 7, 6, 5, 4, 3, 2, 1, 0])\n",
    "# values of update array are used as index positions on the first array\n",
    "idx = np.array([0, 2, 3])\n",
    "a[idx]"
   ]
  },
  {
   "cell_type": "code",
   "execution_count": 36,
   "metadata": {},
   "outputs": [
    {
     "data": {
      "text/plain": [
       "array([2, 5])"
      ]
     },
     "execution_count": 36,
     "metadata": {},
     "output_type": "execute_result"
    }
   ],
   "source": [
    "a = np.array([[0, 1, 2], [3, 4, 5], \n",
    "              [6, 7, 8], [9, 10, 11]])\n",
    "idx1 = np.array([0, 1])\n",
    "idx2 = np.array([2, 2])\n",
    "# returns second element of first dimension/row (=2), second element of second dimension/row (=5) \n",
    "a[idx1, idx2]"
   ]
  },
  {
   "cell_type": "code",
   "execution_count": 37,
   "metadata": {},
   "outputs": [
    {
     "data": {
      "text/plain": [
       "array([[0, 1, 2],\n",
       "       [3, 4, 5]])"
      ]
     },
     "execution_count": 37,
     "metadata": {},
     "output_type": "execute_result"
    }
   ],
   "source": [
    "# is equivalent to a[[0, 1]], returns first and second rows\n",
    "a[np.array([0,1])]"
   ]
  },
  {
   "cell_type": "code",
   "execution_count": 38,
   "metadata": {},
   "outputs": [
    {
     "data": {
      "text/plain": [
       "7"
      ]
     },
     "execution_count": 38,
     "metadata": {},
     "output_type": "execute_result"
    }
   ],
   "source": [
    "# using a tuple will works as index on multiple dimensions:\n",
    "a[(2, 1)]"
   ]
  },
  {
   "cell_type": "code",
   "execution_count": 39,
   "metadata": {},
   "outputs": [
    {
     "data": {
      "text/plain": [
       "array([[ 0,  5],\n",
       "       [10,  7]])"
      ]
     },
     "execution_count": 39,
     "metadata": {},
     "output_type": "execute_result"
    }
   ],
   "source": [
    "# select elements from original array in any shape, for example a (2,2) array\n",
    "idx1 = [[0, 1], [3, 2]]\n",
    "idx2 = [[0, 2], [1, 1]]\n",
    "a[idx1, idx2]"
   ]
  },
  {
   "cell_type": "code",
   "execution_count": 40,
   "metadata": {},
   "outputs": [
    {
     "data": {
      "text/plain": [
       "array([[ 0.11433806,  0.29143583],\n",
       "       [ 0.53974395,  0.60126961],\n",
       "       [ 0.49372836,  0.88849423],\n",
       "       [ 0.40398505,  0.18433041],\n",
       "       [ 0.19199386,  0.03516159],\n",
       "       [ 0.66709868,  0.03167498],\n",
       "       [ 0.77134631,  0.70576819],\n",
       "       [ 0.35524601,  0.72822307],\n",
       "       [ 0.11322613,  0.63659832],\n",
       "       [ 0.63725016,  0.33885752]])"
      ]
     },
     "execution_count": 40,
     "metadata": {},
     "output_type": "execute_result"
    }
   ],
   "source": [
    "# combining array slicing and fancy-indexing features, handy for swapping x and y values in next cell:\n",
    "r_i = np.random.rand(10, 2)\n",
    "r_i"
   ]
  },
  {
   "cell_type": "code",
   "execution_count": 41,
   "metadata": {},
   "outputs": [
    {
     "data": {
      "text/plain": [
       "array([[ 0.29143583,  0.11433806],\n",
       "       [ 0.60126961,  0.53974395],\n",
       "       [ 0.88849423,  0.49372836],\n",
       "       [ 0.18433041,  0.40398505],\n",
       "       [ 0.03516159,  0.19199386],\n",
       "       [ 0.03167498,  0.66709868],\n",
       "       [ 0.70576819,  0.77134631],\n",
       "       [ 0.72822307,  0.35524601],\n",
       "       [ 0.63659832,  0.11322613],\n",
       "       [ 0.33885752,  0.63725016]])"
      ]
     },
     "execution_count": 41,
     "metadata": {},
     "output_type": "execute_result"
    }
   ],
   "source": [
    "# swapping x and y values\n",
    "r_i[:, [0, 1]] = r_i[:, [1,0]]\n",
    "r_i"
   ]
  },
  {
   "cell_type": "code",
   "execution_count": 42,
   "metadata": {},
   "outputs": [
    {
     "name": "stdout",
     "output_type": "stream",
     "text": [
      "2.51 µs ± 885 ns per loop (mean ± std. dev. of 7 runs, 100000 loops each)\n"
     ]
    }
   ],
   "source": [
    "# performance optimization using np.take and numpy.compress\n",
    "r_i = np.random.rand(100, 2)\n",
    "idx = np.arange(50) # integers 0 to 50\n",
    "%timeit np.take(r_i, idx, axis=0)"
   ]
  },
  {
   "cell_type": "code",
   "execution_count": 43,
   "metadata": {},
   "outputs": [
    {
     "name": "stdout",
     "output_type": "stream",
     "text": [
      "2.87 µs ± 55.1 ns per loop (mean ± std. dev. of 7 runs, 100000 loops each)\n"
     ]
    }
   ],
   "source": [
    "r_i = np.random.rand(100, 2)\n",
    "idx = np.arange(50) # integers 0 to 50\n",
    "%timeit r_i[idx]"
   ]
  },
  {
   "cell_type": "code",
   "execution_count": 44,
   "metadata": {},
   "outputs": [
    {
     "name": "stdout",
     "output_type": "stream",
     "text": [
      "2.03 µs ± 131 ns per loop (mean ± std. dev. of 7 runs, 100000 loops each)\n"
     ]
    }
   ],
   "source": [
    "idx = np.ones(100, dtype='bool')\n",
    "%timeit np.compress(idx, r_i, axis=0)"
   ]
  },
  {
   "cell_type": "code",
   "execution_count": 45,
   "metadata": {},
   "outputs": [
    {
     "name": "stdout",
     "output_type": "stream",
     "text": [
      "5.48 µs ± 703 ns per loop (mean ± std. dev. of 7 runs, 100000 loops each)\n"
     ]
    }
   ],
   "source": [
    "%timeit r_i[idx]"
   ]
  },
  {
   "cell_type": "markdown",
   "metadata": {},
   "source": [
    "<h2>Broadcasting</h2><br>\n",
    "Broadcasting is a clever set of rules that enables fast array calculations for arrays of similar (but not equal!) shape."
   ]
  },
  {
   "cell_type": "code",
   "execution_count": 46,
   "metadata": {},
   "outputs": [
    {
     "data": {
      "text/plain": [
       "array([[ 5, 12],\n",
       "       [21, 32]])"
      ]
     },
     "execution_count": 46,
     "metadata": {},
     "output_type": "execute_result"
    }
   ],
   "source": [
    "# multiplying two arrays of equal shape\n",
    "A = np.array([[1, 2], [3, 4]])\n",
    "B = np.array([[5, 6], [7, 8]])\n",
    "A * B"
   ]
  },
  {
   "cell_type": "code",
   "execution_count": 47,
   "metadata": {},
   "outputs": [
    {
     "data": {
      "text/plain": [
       "array([[2, 4],\n",
       "       [6, 8]])"
      ]
     },
     "execution_count": 47,
     "metadata": {},
     "output_type": "execute_result"
    }
   ],
   "source": [
    "# multiplying when shapes don´t match is no problem\n",
    "A * 2"
   ]
  },
  {
   "cell_type": "code",
   "execution_count": 48,
   "metadata": {},
   "outputs": [
    {
     "data": {
      "text/plain": [
       "array([[[  6.37220400e-01,   1.64404258e-02],\n",
       "        [  4.67449201e-01,   3.64976393e-02],\n",
       "        [  4.87661945e-01,   4.22903254e-02],\n",
       "        [  2.86379253e-01,   2.69063626e-02],\n",
       "        [  5.29392250e-01,   4.52083835e-04],\n",
       "        [  3.65997869e-01,   4.01405536e-02],\n",
       "        [  9.90821240e-02,   3.61970703e-02],\n",
       "        [  7.18600639e-02,   4.01821549e-02],\n",
       "        [  5.04505867e-01,   1.78636370e-02],\n",
       "        [  3.18849991e-01,   3.06971261e-02]],\n",
       "\n",
       "       [[  1.92131194e-02,   4.83971703e-02],\n",
       "        [  2.91488229e-02,   3.12215740e-01],\n",
       "        [  4.79006959e-02,   2.58877480e-01],\n",
       "        [  1.28473174e-01,   3.08206967e-01],\n",
       "        [  9.80323025e-02,   7.83800034e-02],\n",
       "        [  6.00085393e-02,   2.96422976e-01],\n",
       "        [  3.04080439e-02,   2.62828072e-02],\n",
       "        [  7.51685270e-02,   2.43032243e-01],\n",
       "        [  8.31856699e-02,   2.99054423e-01],\n",
       "        [  8.12718717e-02,   1.74496644e-01]],\n",
       "\n",
       "       [[  2.82429952e-02,   8.88305250e-02],\n",
       "        [  1.10911480e-01,   4.79897429e-02],\n",
       "        [  8.78343867e-02,   6.00789625e-01],\n",
       "        [  4.46232142e-02,   1.27164472e-01],\n",
       "        [  1.84022931e-01,   2.12555942e-01],\n",
       "        [  4.50888287e-02,   4.13773638e-01],\n",
       "        [  1.20600311e-01,   5.19348339e-01],\n",
       "        [  3.20261718e-02,   6.98136855e-01],\n",
       "        [  4.48561887e-02,   6.65178748e-01],\n",
       "        [  1.59317819e-01,   3.29712461e-01]],\n",
       "\n",
       "       [[  4.18060109e-01,   4.72984692e-01],\n",
       "        [  6.15622945e-02,   6.51513488e-02],\n",
       "        [  4.42421972e-01,   6.86253919e-02],\n",
       "        [  5.64507255e-01,   1.47877652e-01],\n",
       "        [  2.19609598e-02,   3.15492398e-02],\n",
       "        [  5.39827161e-01,   4.82271388e-01],\n",
       "        [  5.18099000e-01,   1.59315268e-01],\n",
       "        [  4.48050121e-02,   3.69555357e-01],\n",
       "        [  5.45109034e-01,   4.62480723e-01],\n",
       "        [  3.06413005e-01,   4.21509443e-01]],\n",
       "\n",
       "       [[  1.58417587e-01,   2.04679939e-01],\n",
       "        [  1.00442037e-01,   1.70048422e-01],\n",
       "        [  2.67120019e-02,   1.10460345e-01],\n",
       "        [  3.31865055e-02,   4.15719728e-03],\n",
       "        [  4.22761513e-02,   2.65615975e-01],\n",
       "        [  7.42936997e-03,   3.89978451e-02],\n",
       "        [  7.25663718e-02,   2.53671772e-01],\n",
       "        [  8.31267417e-03,   1.59898643e-01],\n",
       "        [  1.13222075e-01,   4.62823679e-02],\n",
       "        [  1.27894274e-01,   1.03608642e-01]]])"
      ]
     },
     "execution_count": 48,
     "metadata": {},
     "output_type": "execute_result"
    }
   ],
   "source": [
    "# NumPy adds one axis in B so that it is (5,1,2). Both arrays are compatible to perform a calculation.\n",
    "A = np.random.rand(5, 10, 2)\n",
    "B = np.random.rand(5, 2)\n",
    "A * B[:, np.newaxis, :]"
   ]
  },
  {
   "cell_type": "markdown",
   "metadata": {},
   "source": [
    "<h2>Mathematical operations</h2>"
   ]
  },
  {
   "cell_type": "code",
   "execution_count": 49,
   "metadata": {},
   "outputs": [
    {
     "data": {
      "text/plain": [
       "array([ 2.,  3.,  4.,  5.])"
      ]
     },
     "execution_count": 49,
     "metadata": {},
     "output_type": "execute_result"
    }
   ],
   "source": [
    "# take square root of every element in array\n",
    "np.sqrt(np.array([4, 9, 16, 25]))\n"
   ]
  },
  {
   "cell_type": "code",
   "execution_count": 50,
   "metadata": {},
   "outputs": [
    {
     "data": {
      "text/plain": [
       "array([[ True,  True,  True],\n",
       "       [ True,  True,  True],\n",
       "       [ True,  True,  True],\n",
       "       [ True,  True,  True],\n",
       "       [ True,  True,  True]], dtype=bool)"
      ]
     },
     "execution_count": 50,
     "metadata": {},
     "output_type": "execute_result"
    }
   ],
   "source": [
    "# use a > operator to obtain a bool array\n",
    "a = np.random.rand(5, 3)\n",
    "a > 0.3"
   ]
  },
  {
   "cell_type": "code",
   "execution_count": 51,
   "metadata": {},
   "outputs": [
    {
     "name": "stdout",
     "output_type": "stream",
     "text": [
      "[ 0.91404038  0.67350777  0.73665123  0.97887093  0.8701391   0.7975995\n",
      "  0.50151911  0.89576851]\n"
     ]
    }
   ],
   "source": [
    "# resulting bool array can be reused an an index to retrieve elements greater than 0.5:\n",
    "a[a > 0.5]\n",
    "print(a[a > 0.5])"
   ]
  },
  {
   "cell_type": "code",
   "execution_count": 52,
   "metadata": {},
   "outputs": [
    {
     "data": {
      "text/plain": [
       "array([ 2.51603601,  3.66735784,  2.28357274])"
      ]
     },
     "execution_count": 52,
     "metadata": {},
     "output_type": "execute_result"
    }
   ],
   "source": [
    "# sum of column values\n",
    "a = np.random.rand(5, 3)\n",
    "a.sum(axis=0)"
   ]
  },
  {
   "cell_type": "code",
   "execution_count": 53,
   "metadata": {},
   "outputs": [
    {
     "data": {
      "text/plain": [
       "array([ 1.83792233,  1.96529245,  1.47899817,  1.19497081,  1.98978283])"
      ]
     },
     "execution_count": 53,
     "metadata": {},
     "output_type": "execute_result"
    }
   ],
   "source": [
    "# sum of row values\n",
    "a.sum(axis=1)"
   ]
  },
  {
   "cell_type": "code",
   "execution_count": 54,
   "metadata": {},
   "outputs": [
    {
     "data": {
      "text/plain": [
       "8.4669665985378302"
      ]
     },
     "execution_count": 54,
     "metadata": {},
     "output_type": "execute_result"
    }
   ],
   "source": [
    "# returns total sum of all values\n",
    "a.sum()"
   ]
  },
  {
   "cell_type": "markdown",
   "metadata": {},
   "source": [
    "<h2>Calculating the norm</h2>"
   ]
  },
  {
   "cell_type": "code",
   "execution_count": 55,
   "metadata": {},
   "outputs": [
    {
     "name": "stdout",
     "output_type": "stream",
     "text": [
      "[ 0.93195452  0.51958949  1.09060949  0.84416319  1.02655692  0.89153612\n",
      "  0.9353111   1.00264635  0.68170694  0.95248892]\n"
     ]
    }
   ],
   "source": [
    "# calculating the norm of a 2D vector\n",
    "# norm = sqrt(x**2 + y**2)\n",
    "\n",
    "# array with 10 coordinates (x,y), find the norm of each coordinate\n",
    "# 1. square the coordinates, obtaining an array that contains x**2 y**2 elements\n",
    "# 2. sum those with numpy.sum over the last axis\n",
    "# 3. take the square root, element-wise with numpy.sqrt\n",
    "\n",
    "r_i = np.random.rand(10, 2)\n",
    "norm = np.sqrt((r_i ** 2).sum(axis=1))\n",
    "print(norm)"
   ]
  },
  {
   "cell_type": "markdown",
   "metadata": {},
   "source": [
    "<h2>Rewriting the particle simulator in NumPy</h2>\n",
    "...skipped.."
   ]
  },
  {
   "cell_type": "markdown",
   "metadata": {},
   "source": [
    "<h2>Reaching optimal performance with numexpr</h2>"
   ]
  },
  {
   "cell_type": "code",
   "execution_count": 56,
   "metadata": {
    "collapsed": true
   },
   "outputs": [],
   "source": [
    "# numexpr, which optimizes and compiles array expressions on the fly\n",
    "# Its usage is generally straightforward and is based on a single function--\n",
    "# numexpr.evaluate. The function takes a string containing an array expression as its first\n",
    "# argument\n",
    "import numexpr as ne\n",
    "a = np.random.rand(10000)\n",
    "b = np.random.rand(10000)\n",
    "c = np.random.rand(10000)\n",
    "d = ne.evaluate('a + b * c')"
   ]
  },
  {
   "cell_type": "code",
   "execution_count": 57,
   "metadata": {},
   "outputs": [
    {
     "data": {
      "text/plain": [
       "array([ 0.86744142,  0.44805444,  0.8098505 , ...,  0.2550747 ,\n",
       "        0.89283832,  1.10956487])"
      ]
     },
     "execution_count": 57,
     "metadata": {},
     "output_type": "execute_result"
    }
   ],
   "source": [
    "d"
   ]
  },
  {
   "cell_type": "markdown",
   "metadata": {},
   "source": [
    "<h1>Pandas</h1>"
   ]
  },
  {
   "cell_type": "code",
   "execution_count": 58,
   "metadata": {
    "collapsed": true
   },
   "outputs": [],
   "source": [
    "import pandas as pd\n",
    "patients = [0, 1, 2, 3]\n",
    "effective = [True, True, False, False]\n",
    "effective_series = pd.Series(effective, index=patients)"
   ]
  },
  {
   "cell_type": "code",
   "execution_count": 59,
   "metadata": {},
   "outputs": [
    {
     "data": {
      "text/plain": [
       "0     True\n",
       "1     True\n",
       "2    False\n",
       "3    False\n",
       "dtype: bool"
      ]
     },
     "execution_count": 59,
     "metadata": {},
     "output_type": "execute_result"
    }
   ],
   "source": [
    "effective_series"
   ]
  },
  {
   "cell_type": "code",
   "execution_count": 60,
   "metadata": {
    "collapsed": true
   },
   "outputs": [],
   "source": [
    "# we can easily turn our IDs into strings with little effort\n",
    "patients = [\"a\", \"b\", \"c\", \"d\"]\n",
    "effective = [True, True, False, False]\n",
    "effective_series = pd.Series(effective, index=patients)"
   ]
  },
  {
   "cell_type": "code",
   "execution_count": 61,
   "metadata": {},
   "outputs": [
    {
     "data": {
      "text/plain": [
       "a     True\n",
       "b     True\n",
       "c    False\n",
       "d    False\n",
       "dtype: bool"
      ]
     },
     "execution_count": 61,
     "metadata": {},
     "output_type": "execute_result"
    }
   ],
   "source": [
    "effective_series"
   ]
  },
  {
   "cell_type": "code",
   "execution_count": 62,
   "metadata": {
    "collapsed": true
   },
   "outputs": [],
   "source": [
    "'''create a pd.DataFrame containing four columns that represent the initial and final measurements\n",
    "of systolic and dyastolic blood pressure for our patients'''\n",
    "\n",
    "patients = [\"a\", \"b\", \"c\", \"d\"]\n",
    "columns = {\n",
    "    \"sys_initial\": [120, 126, 130, 115],\n",
    "    \"dia_initial\": [75, 85, 90, 87],\n",
    "    \"sys_final\": [115, 123, 130, 118],\n",
    "    \"dia_final\": [70, 82, 92, 87]\n",
    "}\n",
    "\n",
    "df = pd.DataFrame(columns, index=patients)"
   ]
  },
  {
   "cell_type": "code",
   "execution_count": 63,
   "metadata": {},
   "outputs": [
    {
     "data": {
      "text/html": [
       "<div>\n",
       "<style>\n",
       "    .dataframe thead tr:only-child th {\n",
       "        text-align: right;\n",
       "    }\n",
       "\n",
       "    .dataframe thead th {\n",
       "        text-align: left;\n",
       "    }\n",
       "\n",
       "    .dataframe tbody tr th {\n",
       "        vertical-align: top;\n",
       "    }\n",
       "</style>\n",
       "<table border=\"1\" class=\"dataframe\">\n",
       "  <thead>\n",
       "    <tr style=\"text-align: right;\">\n",
       "      <th></th>\n",
       "      <th>dia_final</th>\n",
       "      <th>dia_initial</th>\n",
       "      <th>sys_final</th>\n",
       "      <th>sys_initial</th>\n",
       "    </tr>\n",
       "  </thead>\n",
       "  <tbody>\n",
       "    <tr>\n",
       "      <th>a</th>\n",
       "      <td>70</td>\n",
       "      <td>75</td>\n",
       "      <td>115</td>\n",
       "      <td>120</td>\n",
       "    </tr>\n",
       "    <tr>\n",
       "      <th>b</th>\n",
       "      <td>82</td>\n",
       "      <td>85</td>\n",
       "      <td>123</td>\n",
       "      <td>126</td>\n",
       "    </tr>\n",
       "    <tr>\n",
       "      <th>c</th>\n",
       "      <td>92</td>\n",
       "      <td>90</td>\n",
       "      <td>130</td>\n",
       "      <td>130</td>\n",
       "    </tr>\n",
       "    <tr>\n",
       "      <th>d</th>\n",
       "      <td>87</td>\n",
       "      <td>87</td>\n",
       "      <td>118</td>\n",
       "      <td>115</td>\n",
       "    </tr>\n",
       "  </tbody>\n",
       "</table>\n",
       "</div>"
      ],
      "text/plain": [
       "   dia_final  dia_initial  sys_final  sys_initial\n",
       "a         70           75        115          120\n",
       "b         82           85        123          126\n",
       "c         92           90        130          130\n",
       "d         87           87        118          115"
      ]
     },
     "execution_count": 63,
     "metadata": {},
     "output_type": "execute_result"
    }
   ],
   "source": [
    "df"
   ]
  },
  {
   "cell_type": "code",
   "execution_count": 64,
   "metadata": {},
   "outputs": [
    {
     "data": {
      "text/plain": [
       "a     True\n",
       "b     True\n",
       "c    False\n",
       "d    False\n",
       "dtype: bool"
      ]
     },
     "execution_count": 64,
     "metadata": {},
     "output_type": "execute_result"
    }
   ],
   "source": [
    "effective_series.head()"
   ]
  },
  {
   "cell_type": "code",
   "execution_count": 65,
   "metadata": {},
   "outputs": [
    {
     "data": {
      "text/html": [
       "<div>\n",
       "<style>\n",
       "    .dataframe thead tr:only-child th {\n",
       "        text-align: right;\n",
       "    }\n",
       "\n",
       "    .dataframe thead th {\n",
       "        text-align: left;\n",
       "    }\n",
       "\n",
       "    .dataframe tbody tr th {\n",
       "        vertical-align: top;\n",
       "    }\n",
       "</style>\n",
       "<table border=\"1\" class=\"dataframe\">\n",
       "  <thead>\n",
       "    <tr style=\"text-align: right;\">\n",
       "      <th></th>\n",
       "      <th>dia_final</th>\n",
       "      <th>dia_initial</th>\n",
       "      <th>sys_final</th>\n",
       "      <th>sys_initial</th>\n",
       "    </tr>\n",
       "  </thead>\n",
       "  <tbody>\n",
       "    <tr>\n",
       "      <th>a</th>\n",
       "      <td>70</td>\n",
       "      <td>75</td>\n",
       "      <td>115</td>\n",
       "      <td>120</td>\n",
       "    </tr>\n",
       "    <tr>\n",
       "      <th>b</th>\n",
       "      <td>82</td>\n",
       "      <td>85</td>\n",
       "      <td>123</td>\n",
       "      <td>126</td>\n",
       "    </tr>\n",
       "    <tr>\n",
       "      <th>c</th>\n",
       "      <td>92</td>\n",
       "      <td>90</td>\n",
       "      <td>130</td>\n",
       "      <td>130</td>\n",
       "    </tr>\n",
       "    <tr>\n",
       "      <th>d</th>\n",
       "      <td>87</td>\n",
       "      <td>87</td>\n",
       "      <td>118</td>\n",
       "      <td>115</td>\n",
       "    </tr>\n",
       "  </tbody>\n",
       "</table>\n",
       "</div>"
      ],
      "text/plain": [
       "   dia_final  dia_initial  sys_final  sys_initial\n",
       "a         70           75        115          120\n",
       "b         82           85        123          126\n",
       "c         92           90        130          130\n",
       "d         87           87        118          115"
      ]
     },
     "execution_count": 65,
     "metadata": {},
     "output_type": "execute_result"
    }
   ],
   "source": [
    "df.head()"
   ]
  },
  {
   "cell_type": "markdown",
   "metadata": {},
   "source": [
    "<h2>Indexing Series and DataFrame objects</h2>"
   ]
  },
  {
   "cell_type": "code",
   "execution_count": 66,
   "metadata": {},
   "outputs": [
    {
     "data": {
      "text/plain": [
       "True"
      ]
     },
     "execution_count": 66,
     "metadata": {},
     "output_type": "execute_result"
    }
   ],
   "source": [
    "'''Retrieving data from a pd.Series, given its key, can be done intuitively by indexing the\n",
    "pd.Series.loc attribute'''\n",
    "\n",
    "effective_series.loc[\"a\"]"
   ]
  },
  {
   "cell_type": "code",
   "execution_count": 67,
   "metadata": {},
   "outputs": [
    {
     "data": {
      "text/plain": [
       "True"
      ]
     },
     "execution_count": 67,
     "metadata": {},
     "output_type": "execute_result"
    }
   ],
   "source": [
    "effective_series.iloc[0]"
   ]
  },
  {
   "cell_type": "code",
   "execution_count": 68,
   "metadata": {},
   "outputs": [
    {
     "data": {
      "text/plain": [
       "True"
      ]
     },
     "execution_count": 68,
     "metadata": {},
     "output_type": "execute_result"
    }
   ],
   "source": [
    "effective_series[\"a\"] # By key"
   ]
  },
  {
   "cell_type": "code",
   "execution_count": 69,
   "metadata": {},
   "outputs": [
    {
     "data": {
      "text/plain": [
       "True"
      ]
     },
     "execution_count": 69,
     "metadata": {},
     "output_type": "execute_result"
    }
   ],
   "source": [
    "effective_series[0] # By position"
   ]
  },
  {
   "cell_type": "code",
   "execution_count": 70,
   "metadata": {},
   "outputs": [
    {
     "data": {
      "text/plain": [
       "dia_final       70\n",
       "dia_initial     75\n",
       "sys_final      115\n",
       "sys_initial    120\n",
       "Name: a, dtype: int64"
      ]
     },
     "execution_count": 70,
     "metadata": {},
     "output_type": "execute_result"
    }
   ],
   "source": [
    "df.loc[\"a\"]"
   ]
  },
  {
   "cell_type": "code",
   "execution_count": 71,
   "metadata": {},
   "outputs": [
    {
     "data": {
      "text/plain": [
       "dia_final       70\n",
       "dia_initial     75\n",
       "sys_final      115\n",
       "sys_initial    120\n",
       "Name: a, dtype: int64"
      ]
     },
     "execution_count": 71,
     "metadata": {},
     "output_type": "execute_result"
    }
   ],
   "source": [
    "df.iloc[0]"
   ]
  },
  {
   "cell_type": "code",
   "execution_count": 72,
   "metadata": {},
   "outputs": [
    {
     "data": {
      "text/plain": [
       "120"
      ]
     },
     "execution_count": 72,
     "metadata": {},
     "output_type": "execute_result"
    }
   ],
   "source": [
    "# The loc attribute will index both row and column by key\n",
    "df.loc[\"a\", \"sys_initial\"]"
   ]
  },
  {
   "cell_type": "code",
   "execution_count": 73,
   "metadata": {},
   "outputs": [
    {
     "data": {
      "text/plain": [
       "75"
      ]
     },
     "execution_count": 73,
     "metadata": {},
     "output_type": "execute_result"
    }
   ],
   "source": [
    "# iloc version will index row and column by an integer:\n",
    "df.iloc[0, 1]"
   ]
  },
  {
   "cell_type": "code",
   "execution_count": 74,
   "metadata": {},
   "outputs": [
    {
     "data": {
      "text/plain": [
       "a    120\n",
       "b    126\n",
       "c    130\n",
       "d    115\n",
       "Name: sys_initial, dtype: int64"
      ]
     },
     "execution_count": 74,
     "metadata": {},
     "output_type": "execute_result"
    }
   ],
   "source": [
    "# Retrieve column by name\n",
    "df[\"sys_initial\"] # Equivalent to df.sys_initial"
   ]
  },
  {
   "cell_type": "code",
   "execution_count": 75,
   "metadata": {},
   "outputs": [
    {
     "data": {
      "text/plain": [
       "a    115\n",
       "b    123\n",
       "c    130\n",
       "d    118\n",
       "Name: sys_final, dtype: int64"
      ]
     },
     "execution_count": 75,
     "metadata": {},
     "output_type": "execute_result"
    }
   ],
   "source": [
    "# Retrieve column by position\n",
    "df[df.columns[2]] # Equivalent to df.iloc[:, 2]"
   ]
  },
  {
   "cell_type": "code",
   "execution_count": null,
   "metadata": {},
   "outputs": [],
   "source": [
    "# pandas performance considerations\n",
    "# create a series with duplicate index\n",
    "%timeit index = list(range(1000)) + list(range(1000))\n",
    "# accessing a normal sreies is a O(N) operation\n",
    "%timeit series = pd.Series(range(2000), index=index)\n",
    "# sorting will improve look-up scaling to O(log(N))\n",
    "%timeit series.sort_index(inplace=True)"
   ]
  },
  {
   "cell_type": "markdown",
   "metadata": {},
   "source": [
    "<h2>database-style operations with Pandas</h2>\n",
    "<h2>Mapping</h2>"
   ]
  },
  {
   "cell_type": "code",
   "execution_count": 77,
   "metadata": {},
   "outputs": [
    {
     "data": {
      "text/plain": [
       "a    4.787492\n",
       "b    4.836282\n",
       "c    4.867534\n",
       "d    4.744932\n",
       "Name: sys_initial, dtype: float64"
      ]
     },
     "execution_count": 77,
     "metadata": {},
     "output_type": "execute_result"
    }
   ],
   "source": [
    "np.log(df.sys_initial) #logarithm of a series"
   ]
  },
  {
   "cell_type": "code",
   "execution_count": 78,
   "metadata": {},
   "outputs": [
    {
     "data": {
      "text/plain": [
       "a    14400\n",
       "b    15876\n",
       "c    16900\n",
       "d    13225\n",
       "Name: sys_initial, dtype: int64"
      ]
     },
     "execution_count": 78,
     "metadata": {},
     "output_type": "execute_result"
    }
   ],
   "source": [
    "df.sys_initial ** 2 #square of a series"
   ]
  },
  {
   "cell_type": "code",
   "execution_count": 79,
   "metadata": {},
   "outputs": [
    {
     "data": {
      "text/html": [
       "<div>\n",
       "<style>\n",
       "    .dataframe thead tr:only-child th {\n",
       "        text-align: right;\n",
       "    }\n",
       "\n",
       "    .dataframe thead th {\n",
       "        text-align: left;\n",
       "    }\n",
       "\n",
       "    .dataframe tbody tr th {\n",
       "        vertical-align: top;\n",
       "    }\n",
       "</style>\n",
       "<table border=\"1\" class=\"dataframe\">\n",
       "  <thead>\n",
       "    <tr style=\"text-align: right;\">\n",
       "      <th></th>\n",
       "      <th>dia_final</th>\n",
       "      <th>dia_initial</th>\n",
       "      <th>sys_final</th>\n",
       "      <th>sys_initial</th>\n",
       "    </tr>\n",
       "  </thead>\n",
       "  <tbody>\n",
       "    <tr>\n",
       "      <th>a</th>\n",
       "      <td>4.248495</td>\n",
       "      <td>4.317488</td>\n",
       "      <td>4.744932</td>\n",
       "      <td>4.787492</td>\n",
       "    </tr>\n",
       "    <tr>\n",
       "      <th>b</th>\n",
       "      <td>4.406719</td>\n",
       "      <td>4.442651</td>\n",
       "      <td>4.812184</td>\n",
       "      <td>4.836282</td>\n",
       "    </tr>\n",
       "    <tr>\n",
       "      <th>c</th>\n",
       "      <td>4.521789</td>\n",
       "      <td>4.499810</td>\n",
       "      <td>4.867534</td>\n",
       "      <td>4.867534</td>\n",
       "    </tr>\n",
       "    <tr>\n",
       "      <th>d</th>\n",
       "      <td>4.465908</td>\n",
       "      <td>4.465908</td>\n",
       "      <td>4.770685</td>\n",
       "      <td>4.744932</td>\n",
       "    </tr>\n",
       "  </tbody>\n",
       "</table>\n",
       "</div>"
      ],
      "text/plain": [
       "   dia_final  dia_initial  sys_final  sys_initial\n",
       "a   4.248495     4.317488   4.744932     4.787492\n",
       "b   4.406719     4.442651   4.812184     4.836282\n",
       "c   4.521789     4.499810   4.867534     4.867534\n",
       "d   4.465908     4.465908   4.770685     4.744932"
      ]
     },
     "execution_count": 79,
     "metadata": {},
     "output_type": "execute_result"
    }
   ],
   "source": [
    "np.log(df) # logarithm of a dataframe"
   ]
  },
  {
   "cell_type": "code",
   "execution_count": 80,
   "metadata": {},
   "outputs": [
    {
     "data": {
      "text/html": [
       "<div>\n",
       "<style>\n",
       "    .dataframe thead tr:only-child th {\n",
       "        text-align: right;\n",
       "    }\n",
       "\n",
       "    .dataframe thead th {\n",
       "        text-align: left;\n",
       "    }\n",
       "\n",
       "    .dataframe tbody tr th {\n",
       "        vertical-align: top;\n",
       "    }\n",
       "</style>\n",
       "<table border=\"1\" class=\"dataframe\">\n",
       "  <thead>\n",
       "    <tr style=\"text-align: right;\">\n",
       "      <th></th>\n",
       "      <th>dia_final</th>\n",
       "      <th>dia_initial</th>\n",
       "      <th>sys_final</th>\n",
       "      <th>sys_initial</th>\n",
       "    </tr>\n",
       "  </thead>\n",
       "  <tbody>\n",
       "    <tr>\n",
       "      <th>a</th>\n",
       "      <td>4900</td>\n",
       "      <td>5625</td>\n",
       "      <td>13225</td>\n",
       "      <td>14400</td>\n",
       "    </tr>\n",
       "    <tr>\n",
       "      <th>b</th>\n",
       "      <td>6724</td>\n",
       "      <td>7225</td>\n",
       "      <td>15129</td>\n",
       "      <td>15876</td>\n",
       "    </tr>\n",
       "    <tr>\n",
       "      <th>c</th>\n",
       "      <td>8464</td>\n",
       "      <td>8100</td>\n",
       "      <td>16900</td>\n",
       "      <td>16900</td>\n",
       "    </tr>\n",
       "    <tr>\n",
       "      <th>d</th>\n",
       "      <td>7569</td>\n",
       "      <td>7569</td>\n",
       "      <td>13924</td>\n",
       "      <td>13225</td>\n",
       "    </tr>\n",
       "  </tbody>\n",
       "</table>\n",
       "</div>"
      ],
      "text/plain": [
       "   dia_final  dia_initial  sys_final  sys_initial\n",
       "a       4900         5625      13225        14400\n",
       "b       6724         7225      15129        15876\n",
       "c       8464         8100      16900        16900\n",
       "d       7569         7569      13924        13225"
      ]
     },
     "execution_count": 80,
     "metadata": {},
     "output_type": "execute_result"
    }
   ],
   "source": [
    "df ** 2 # square of a dataframe"
   ]
  },
  {
   "cell_type": "code",
   "execution_count": 81,
   "metadata": {},
   "outputs": [
    {
     "data": {
      "text/plain": [
       "a    5\n",
       "b    7\n",
       "c    9\n",
       "dtype: int64"
      ]
     },
     "execution_count": 81,
     "metadata": {},
     "output_type": "execute_result"
    }
   ],
   "source": [
    "# Matching index\n",
    "a = pd.Series([1, 2, 3], index=[\"a\", \"b\", \"c\"])\n",
    "b = pd.Series([4, 5, 6], index=[\"a\", \"b\", \"c\"])\n",
    "a + b"
   ]
  },
  {
   "cell_type": "code",
   "execution_count": 82,
   "metadata": {},
   "outputs": [
    {
     "data": {
      "text/plain": [
       "a    4\n",
       "b    5\n",
       "d    6\n",
       "dtype: int64"
      ]
     },
     "execution_count": 82,
     "metadata": {},
     "output_type": "execute_result"
    }
   ],
   "source": [
    "# Mismatching index\n",
    "b = pd.Series([4, 5, 6], index=[\"a\", \"b\", \"d\"])\n",
    "b"
   ]
  },
  {
   "cell_type": "code",
   "execution_count": 83,
   "metadata": {},
   "outputs": [
    {
     "data": {
      "text/plain": [
       "a    *1*\n",
       "b    *2*\n",
       "c    *3*\n",
       "dtype: object"
      ]
     },
     "execution_count": 83,
     "metadata": {},
     "output_type": "execute_result"
    }
   ],
   "source": [
    "# For added flexibility, Pandas exposes the map, apply, and applymap methods that can be\n",
    "# used to apply specific transformations.\n",
    "\n",
    "a = pd.Series([1, 2, 3], index=[\"a\", \"b\", \"c\"])\n",
    "def superstar(x):\n",
    "    return '*' + str(x) + '*'\n",
    "a.map(superstar)"
   ]
  },
  {
   "cell_type": "code",
   "execution_count": 84,
   "metadata": {},
   "outputs": [
    {
     "data": {
      "text/html": [
       "<div>\n",
       "<style>\n",
       "    .dataframe thead tr:only-child th {\n",
       "        text-align: right;\n",
       "    }\n",
       "\n",
       "    .dataframe thead th {\n",
       "        text-align: left;\n",
       "    }\n",
       "\n",
       "    .dataframe tbody tr th {\n",
       "        vertical-align: top;\n",
       "    }\n",
       "</style>\n",
       "<table border=\"1\" class=\"dataframe\">\n",
       "  <thead>\n",
       "    <tr style=\"text-align: right;\">\n",
       "      <th></th>\n",
       "      <th>dia_final</th>\n",
       "      <th>dia_initial</th>\n",
       "      <th>sys_final</th>\n",
       "      <th>sys_initial</th>\n",
       "    </tr>\n",
       "  </thead>\n",
       "  <tbody>\n",
       "    <tr>\n",
       "      <th>a</th>\n",
       "      <td>*70*</td>\n",
       "      <td>*75*</td>\n",
       "      <td>*115*</td>\n",
       "      <td>*120*</td>\n",
       "    </tr>\n",
       "    <tr>\n",
       "      <th>b</th>\n",
       "      <td>*82*</td>\n",
       "      <td>*85*</td>\n",
       "      <td>*123*</td>\n",
       "      <td>*126*</td>\n",
       "    </tr>\n",
       "    <tr>\n",
       "      <th>c</th>\n",
       "      <td>*92*</td>\n",
       "      <td>*90*</td>\n",
       "      <td>*130*</td>\n",
       "      <td>*130*</td>\n",
       "    </tr>\n",
       "    <tr>\n",
       "      <th>d</th>\n",
       "      <td>*87*</td>\n",
       "      <td>*87*</td>\n",
       "      <td>*118*</td>\n",
       "      <td>*115*</td>\n",
       "    </tr>\n",
       "  </tbody>\n",
       "</table>\n",
       "</div>"
      ],
      "text/plain": [
       "  dia_final dia_initial sys_final sys_initial\n",
       "a      *70*        *75*     *115*       *120*\n",
       "b      *82*        *85*     *123*       *126*\n",
       "c      *92*        *90*     *130*       *130*\n",
       "d      *87*        *87*     *118*       *115*"
      ]
     },
     "execution_count": 84,
     "metadata": {},
     "output_type": "execute_result"
    }
   ],
   "source": [
    "df.applymap(superstar)"
   ]
  },
  {
   "cell_type": "code",
   "execution_count": 85,
   "metadata": {},
   "outputs": [
    {
     "data": {
      "text/plain": [
       "dia_final      *a    70\\nb    82\\nc    92\\nd    87\\nName: dia...\n",
       "dia_initial    *a    75\\nb    85\\nc    90\\nd    87\\nName: dia...\n",
       "sys_final      *a    115\\nb    123\\nc    130\\nd    118\\nName:...\n",
       "sys_initial    *a    120\\nb    126\\nc    130\\nd    115\\nName:...\n",
       "dtype: object"
      ]
     },
     "execution_count": 85,
     "metadata": {},
     "output_type": "execute_result"
    }
   ],
   "source": [
    "#apply function columnwise\n",
    "df.apply(superstar, axis=0)"
   ]
  },
  {
   "cell_type": "code",
   "execution_count": 86,
   "metadata": {},
   "outputs": [
    {
     "data": {
      "text/plain": [
       "a    *dia_final       70\\ndia_initial     75\\nsys_f...\n",
       "b    *dia_final       82\\ndia_initial     85\\nsys_f...\n",
       "c    *dia_final       92\\ndia_initial     90\\nsys_f...\n",
       "d    *dia_final       87\\ndia_initial     87\\nsys_f...\n",
       "dtype: object"
      ]
     },
     "execution_count": 86,
     "metadata": {},
     "output_type": "execute_result"
    }
   ],
   "source": [
    "# apply rowwise\n",
    "df.apply(superstar, axis=1)"
   ]
  },
  {
   "cell_type": "code",
   "execution_count": 87,
   "metadata": {},
   "outputs": [
    {
     "data": {
      "text/plain": [
       "a   -5\n",
       "b   -3\n",
       "c    0\n",
       "d    3\n",
       "dtype: int64"
      ]
     },
     "execution_count": 87,
     "metadata": {},
     "output_type": "execute_result"
    }
   ],
   "source": [
    "# pandas supports efficient numexpr-style expressions with eval method\n",
    "df.eval(\"sys_final - sys_initial\")"
   ]
  },
  {
   "cell_type": "code",
   "execution_count": 88,
   "metadata": {},
   "outputs": [
    {
     "data": {
      "text/html": [
       "<div>\n",
       "<style>\n",
       "    .dataframe thead tr:only-child th {\n",
       "        text-align: right;\n",
       "    }\n",
       "\n",
       "    .dataframe thead th {\n",
       "        text-align: left;\n",
       "    }\n",
       "\n",
       "    .dataframe tbody tr th {\n",
       "        vertical-align: top;\n",
       "    }\n",
       "</style>\n",
       "<table border=\"1\" class=\"dataframe\">\n",
       "  <thead>\n",
       "    <tr style=\"text-align: right;\">\n",
       "      <th></th>\n",
       "      <th>dia_final</th>\n",
       "      <th>dia_initial</th>\n",
       "      <th>sys_final</th>\n",
       "      <th>sys_initial</th>\n",
       "      <th>sys_delta</th>\n",
       "    </tr>\n",
       "  </thead>\n",
       "  <tbody>\n",
       "    <tr>\n",
       "      <th>a</th>\n",
       "      <td>70</td>\n",
       "      <td>75</td>\n",
       "      <td>115</td>\n",
       "      <td>120</td>\n",
       "      <td>-5</td>\n",
       "    </tr>\n",
       "    <tr>\n",
       "      <th>b</th>\n",
       "      <td>82</td>\n",
       "      <td>85</td>\n",
       "      <td>123</td>\n",
       "      <td>126</td>\n",
       "      <td>-3</td>\n",
       "    </tr>\n",
       "    <tr>\n",
       "      <th>c</th>\n",
       "      <td>92</td>\n",
       "      <td>90</td>\n",
       "      <td>130</td>\n",
       "      <td>130</td>\n",
       "      <td>0</td>\n",
       "    </tr>\n",
       "    <tr>\n",
       "      <th>d</th>\n",
       "      <td>87</td>\n",
       "      <td>87</td>\n",
       "      <td>118</td>\n",
       "      <td>115</td>\n",
       "      <td>3</td>\n",
       "    </tr>\n",
       "  </tbody>\n",
       "</table>\n",
       "</div>"
      ],
      "text/plain": [
       "   dia_final  dia_initial  sys_final  sys_initial  sys_delta\n",
       "a         70           75        115          120         -5\n",
       "b         82           85        123          126         -3\n",
       "c         92           90        130          130          0\n",
       "d         87           87        118          115          3"
      ]
     },
     "execution_count": 88,
     "metadata": {},
     "output_type": "execute_result"
    }
   ],
   "source": [
    "# In the next example, we compute the difference between\n",
    "# sys_final and sys_initial, and we store it in the sys_delta column\n",
    "\n",
    "df.eval(\"sys_delta = sys_final - sys_initial\", inplace=False)"
   ]
  },
  {
   "cell_type": "markdown",
   "metadata": {},
   "source": [
    "<h2>Grouping, aggregations, and transforms</h2>"
   ]
  },
  {
   "cell_type": "code",
   "execution_count": 90,
   "metadata": {},
   "outputs": [
    {
     "data": {
      "text/html": [
       "<div>\n",
       "<style>\n",
       "    .dataframe thead tr:only-child th {\n",
       "        text-align: right;\n",
       "    }\n",
       "\n",
       "    .dataframe thead th {\n",
       "        text-align: left;\n",
       "    }\n",
       "\n",
       "    .dataframe tbody tr th {\n",
       "        vertical-align: top;\n",
       "    }\n",
       "</style>\n",
       "<table border=\"1\" class=\"dataframe\">\n",
       "  <thead>\n",
       "    <tr style=\"text-align: right;\">\n",
       "      <th></th>\n",
       "      <th>dia_final</th>\n",
       "      <th>dia_initial</th>\n",
       "      <th>drug_admst</th>\n",
       "      <th>sys_final</th>\n",
       "      <th>sys_initial</th>\n",
       "    </tr>\n",
       "  </thead>\n",
       "  <tbody>\n",
       "    <tr>\n",
       "      <th>a</th>\n",
       "      <td>70</td>\n",
       "      <td>75</td>\n",
       "      <td>True</td>\n",
       "      <td>115</td>\n",
       "      <td>120</td>\n",
       "    </tr>\n",
       "    <tr>\n",
       "      <th>b</th>\n",
       "      <td>82</td>\n",
       "      <td>85</td>\n",
       "      <td>True</td>\n",
       "      <td>123</td>\n",
       "      <td>126</td>\n",
       "    </tr>\n",
       "    <tr>\n",
       "      <th>c</th>\n",
       "      <td>92</td>\n",
       "      <td>90</td>\n",
       "      <td>True</td>\n",
       "      <td>130</td>\n",
       "      <td>130</td>\n",
       "    </tr>\n",
       "    <tr>\n",
       "      <th>d</th>\n",
       "      <td>87</td>\n",
       "      <td>87</td>\n",
       "      <td>True</td>\n",
       "      <td>118</td>\n",
       "      <td>115</td>\n",
       "    </tr>\n",
       "    <tr>\n",
       "      <th>e</th>\n",
       "      <td>85</td>\n",
       "      <td>90</td>\n",
       "      <td>False</td>\n",
       "      <td>130</td>\n",
       "      <td>150</td>\n",
       "    </tr>\n",
       "    <tr>\n",
       "      <th>f</th>\n",
       "      <td>74</td>\n",
       "      <td>74</td>\n",
       "      <td>False</td>\n",
       "      <td>121</td>\n",
       "      <td>117</td>\n",
       "    </tr>\n",
       "  </tbody>\n",
       "</table>\n",
       "</div>"
      ],
      "text/plain": [
       "   dia_final  dia_initial  drug_admst  sys_final  sys_initial\n",
       "a         70           75        True        115          120\n",
       "b         82           85        True        123          126\n",
       "c         92           90        True        130          130\n",
       "d         87           87        True        118          115\n",
       "e         85           90       False        130          150\n",
       "f         74           74       False        121          117"
      ]
     },
     "execution_count": 90,
     "metadata": {},
     "output_type": "execute_result"
    }
   ],
   "source": [
    "'''One of the most appreciated features of Pandas is the simple and concise expression of data\n",
    "analysis pipelines that requires grouping, transforming, and aggregating the data'''\n",
    "\n",
    "patients = [\"a\", \"b\", \"c\", \"d\", \"e\", \"f\"]\n",
    "columns = {\n",
    "\"sys_initial\": [120, 126, 130, 115, 150, 117],\n",
    "\"dia_initial\": [75, 85, 90, 87, 90, 74],\n",
    "\"sys_final\": [115, 123, 130, 118, 130, 121],\n",
    "\"dia_final\": [70, 82, 92, 87, 85, 74],\n",
    "\"drug_admst\": [True, True, True, True, False, False]\n",
    "}\n",
    "\n",
    "df = pd.DataFrame(columns, index=patients)\n",
    "df"
   ]
  },
  {
   "cell_type": "code",
   "execution_count": 91,
   "metadata": {},
   "outputs": [
    {
     "name": "stdout",
     "output_type": "stream",
     "text": [
      "Value: False\n",
      "Group DataFrame:\n",
      "   dia_final  dia_initial  drug_admst  sys_final  sys_initial\n",
      "e         85           90       False        130          150\n",
      "f         74           74       False        121          117\n",
      "Value: True\n",
      "Group DataFrame:\n",
      "   dia_final  dia_initial  drug_admst  sys_final  sys_initial\n",
      "a         70           75        True        115          120\n",
      "b         82           85        True        123          126\n",
      "c         92           90        True        130          130\n",
      "d         87           87        True        118          115\n"
     ]
    }
   ],
   "source": [
    "# You can group the patients according to drug_amst using the\n",
    "# pd.DataFrame.groupby function\n",
    "df.groupby('drug_admst')\n",
    "for value, group in df.groupby('drug_admst'):\n",
    "    print(\"Value: {}\".format(value))\n",
    "    print(\"Group DataFrame:\")\n",
    "    print(group)\n",
    "    "
   ]
  },
  {
   "cell_type": "code",
   "execution_count": 92,
   "metadata": {},
   "outputs": [
    {
     "data": {
      "text/html": [
       "<div>\n",
       "<style>\n",
       "    .dataframe thead tr:only-child th {\n",
       "        text-align: right;\n",
       "    }\n",
       "\n",
       "    .dataframe thead th {\n",
       "        text-align: left;\n",
       "    }\n",
       "\n",
       "    .dataframe tbody tr th {\n",
       "        vertical-align: top;\n",
       "    }\n",
       "</style>\n",
       "<table border=\"1\" class=\"dataframe\">\n",
       "  <thead>\n",
       "    <tr style=\"text-align: right;\">\n",
       "      <th></th>\n",
       "      <th>dia_final</th>\n",
       "      <th>dia_initial</th>\n",
       "      <th>sys_final</th>\n",
       "      <th>sys_initial</th>\n",
       "    </tr>\n",
       "    <tr>\n",
       "      <th>drug_admst</th>\n",
       "      <th></th>\n",
       "      <th></th>\n",
       "      <th></th>\n",
       "      <th></th>\n",
       "    </tr>\n",
       "  </thead>\n",
       "  <tbody>\n",
       "    <tr>\n",
       "      <th>False</th>\n",
       "      <td>79.50</td>\n",
       "      <td>82.00</td>\n",
       "      <td>125.5</td>\n",
       "      <td>133.50</td>\n",
       "    </tr>\n",
       "    <tr>\n",
       "      <th>True</th>\n",
       "      <td>82.75</td>\n",
       "      <td>84.25</td>\n",
       "      <td>121.5</td>\n",
       "      <td>122.75</td>\n",
       "    </tr>\n",
       "  </tbody>\n",
       "</table>\n",
       "</div>"
      ],
      "text/plain": [
       "            dia_final  dia_initial  sys_final  sys_initial\n",
       "drug_admst                                                \n",
       "False           79.50        82.00      125.5       133.50\n",
       "True            82.75        84.25      121.5       122.75"
      ]
     },
     "execution_count": 92,
     "metadata": {},
     "output_type": "execute_result"
    }
   ],
   "source": [
    "'''Iterating on the DataFrameGroupBy object is almost never necessary, because, thanks to\n",
    "method chaining, it is possible to calculate group-related properties directly. For example,\n",
    "we may want to calculate mean, max, or standard deviation for each group. All those\n",
    "operations that summarize the data in some way are called aggregations and can be\n",
    "performed using the agg method.'''\n",
    "\n",
    "df.groupby('drug_admst').agg(np.mean)"
   ]
  },
  {
   "cell_type": "code",
   "execution_count": 94,
   "metadata": {},
   "outputs": [
    {
     "data": {
      "text/html": [
       "<div>\n",
       "<style>\n",
       "    .dataframe thead tr:only-child th {\n",
       "        text-align: right;\n",
       "    }\n",
       "\n",
       "    .dataframe thead th {\n",
       "        text-align: left;\n",
       "    }\n",
       "\n",
       "    .dataframe tbody tr th {\n",
       "        vertical-align: top;\n",
       "    }\n",
       "</style>\n",
       "<table border=\"1\" class=\"dataframe\">\n",
       "  <thead>\n",
       "    <tr style=\"text-align: right;\">\n",
       "      <th></th>\n",
       "      <th>dia_final</th>\n",
       "      <th>dia_initial</th>\n",
       "      <th>drug_admst</th>\n",
       "      <th>sys_final</th>\n",
       "      <th>sys_initial</th>\n",
       "    </tr>\n",
       "  </thead>\n",
       "  <tbody>\n",
       "    <tr>\n",
       "      <th>a</th>\n",
       "      <td>70</td>\n",
       "      <td>75</td>\n",
       "      <td>True</td>\n",
       "      <td>115</td>\n",
       "      <td>NaN</td>\n",
       "    </tr>\n",
       "    <tr>\n",
       "      <th>b</th>\n",
       "      <td>82</td>\n",
       "      <td>85</td>\n",
       "      <td>True</td>\n",
       "      <td>123</td>\n",
       "      <td>126.0</td>\n",
       "    </tr>\n",
       "    <tr>\n",
       "      <th>c</th>\n",
       "      <td>92</td>\n",
       "      <td>90</td>\n",
       "      <td>True</td>\n",
       "      <td>130</td>\n",
       "      <td>130.0</td>\n",
       "    </tr>\n",
       "    <tr>\n",
       "      <th>d</th>\n",
       "      <td>87</td>\n",
       "      <td>87</td>\n",
       "      <td>True</td>\n",
       "      <td>118</td>\n",
       "      <td>115.0</td>\n",
       "    </tr>\n",
       "    <tr>\n",
       "      <th>e</th>\n",
       "      <td>85</td>\n",
       "      <td>90</td>\n",
       "      <td>False</td>\n",
       "      <td>130</td>\n",
       "      <td>150.0</td>\n",
       "    </tr>\n",
       "    <tr>\n",
       "      <th>f</th>\n",
       "      <td>74</td>\n",
       "      <td>74</td>\n",
       "      <td>False</td>\n",
       "      <td>121</td>\n",
       "      <td>117.0</td>\n",
       "    </tr>\n",
       "  </tbody>\n",
       "</table>\n",
       "</div>"
      ],
      "text/plain": [
       "   dia_final  dia_initial  drug_admst  sys_final  sys_initial\n",
       "a         70           75        True        115          NaN\n",
       "b         82           85        True        123        126.0\n",
       "c         92           90        True        130        130.0\n",
       "d         87           87        True        118        115.0\n",
       "e         85           90       False        130        150.0\n",
       "f         74           74       False        121        117.0"
      ]
     },
     "execution_count": 94,
     "metadata": {},
     "output_type": "execute_result"
    }
   ],
   "source": [
    "# create missing value for next example\n",
    "df.loc['a', 'sys_initial'] = None\n",
    "df"
   ]
  },
  {
   "cell_type": "code",
   "execution_count": 95,
   "metadata": {},
   "outputs": [
    {
     "data": {
      "text/html": [
       "<div>\n",
       "<style>\n",
       "    .dataframe thead tr:only-child th {\n",
       "        text-align: right;\n",
       "    }\n",
       "\n",
       "    .dataframe thead th {\n",
       "        text-align: left;\n",
       "    }\n",
       "\n",
       "    .dataframe tbody tr th {\n",
       "        vertical-align: top;\n",
       "    }\n",
       "</style>\n",
       "<table border=\"1\" class=\"dataframe\">\n",
       "  <thead>\n",
       "    <tr style=\"text-align: right;\">\n",
       "      <th></th>\n",
       "      <th>dia_final</th>\n",
       "      <th>dia_initial</th>\n",
       "      <th>sys_final</th>\n",
       "      <th>sys_initial</th>\n",
       "    </tr>\n",
       "  </thead>\n",
       "  <tbody>\n",
       "    <tr>\n",
       "      <th>a</th>\n",
       "      <td>70</td>\n",
       "      <td>75</td>\n",
       "      <td>115</td>\n",
       "      <td>123.666667</td>\n",
       "    </tr>\n",
       "    <tr>\n",
       "      <th>b</th>\n",
       "      <td>82</td>\n",
       "      <td>85</td>\n",
       "      <td>123</td>\n",
       "      <td>126.000000</td>\n",
       "    </tr>\n",
       "    <tr>\n",
       "      <th>c</th>\n",
       "      <td>92</td>\n",
       "      <td>90</td>\n",
       "      <td>130</td>\n",
       "      <td>130.000000</td>\n",
       "    </tr>\n",
       "    <tr>\n",
       "      <th>d</th>\n",
       "      <td>87</td>\n",
       "      <td>87</td>\n",
       "      <td>118</td>\n",
       "      <td>115.000000</td>\n",
       "    </tr>\n",
       "    <tr>\n",
       "      <th>e</th>\n",
       "      <td>85</td>\n",
       "      <td>90</td>\n",
       "      <td>130</td>\n",
       "      <td>150.000000</td>\n",
       "    </tr>\n",
       "    <tr>\n",
       "      <th>f</th>\n",
       "      <td>74</td>\n",
       "      <td>74</td>\n",
       "      <td>121</td>\n",
       "      <td>117.000000</td>\n",
       "    </tr>\n",
       "  </tbody>\n",
       "</table>\n",
       "</div>"
      ],
      "text/plain": [
       "   dia_final  dia_initial  sys_final  sys_initial\n",
       "a         70           75        115   123.666667\n",
       "b         82           85        123   126.000000\n",
       "c         92           90        130   130.000000\n",
       "d         87           87        118   115.000000\n",
       "e         85           90        130   150.000000\n",
       "f         74           74        121   117.000000"
      ]
     },
     "execution_count": 95,
     "metadata": {},
     "output_type": "execute_result"
    }
   ],
   "source": [
    "# missing value is now a known value, using average of other values in the same group\n",
    "df.groupby('drug_admst').transform(lambda df: df.fillna(df.mean()))"
   ]
  },
  {
   "cell_type": "markdown",
   "metadata": {},
   "source": [
    "<h2>Joining</h2>"
   ]
  },
  {
   "cell_type": "code",
   "execution_count": 98,
   "metadata": {},
   "outputs": [
    {
     "data": {
      "text/html": [
       "<div>\n",
       "<style>\n",
       "    .dataframe thead tr:only-child th {\n",
       "        text-align: right;\n",
       "    }\n",
       "\n",
       "    .dataframe thead th {\n",
       "        text-align: left;\n",
       "    }\n",
       "\n",
       "    .dataframe tbody tr th {\n",
       "        vertical-align: top;\n",
       "    }\n",
       "</style>\n",
       "<table border=\"1\" class=\"dataframe\">\n",
       "  <thead>\n",
       "    <tr style=\"text-align: right;\">\n",
       "      <th></th>\n",
       "      <th>address</th>\n",
       "      <th>city</th>\n",
       "      <th>name</th>\n",
       "    </tr>\n",
       "  </thead>\n",
       "  <tbody>\n",
       "    <tr>\n",
       "      <th>H1</th>\n",
       "      <td>Address 1</td>\n",
       "      <td>City 1</td>\n",
       "      <td>City 1</td>\n",
       "    </tr>\n",
       "    <tr>\n",
       "      <th>H2</th>\n",
       "      <td>Address 2</td>\n",
       "      <td>City 2</td>\n",
       "      <td>City 2</td>\n",
       "    </tr>\n",
       "    <tr>\n",
       "      <th>H3</th>\n",
       "      <td>Address 3</td>\n",
       "      <td>City 3</td>\n",
       "      <td>City 3</td>\n",
       "    </tr>\n",
       "  </tbody>\n",
       "</table>\n",
       "</div>"
      ],
      "text/plain": [
       "      address    city    name\n",
       "H1  Address 1  City 1  City 1\n",
       "H2  Address 2  City 2  City 2\n",
       "H3  Address 3  City 3  City 3"
      ]
     },
     "execution_count": 98,
     "metadata": {},
     "output_type": "execute_result"
    }
   ],
   "source": [
    "'''Joins are useful to aggregate data that is scattered among different tables. Let’s say that we\n",
    "want to include the location of the hospital in which patient measurements were taken in\n",
    "our dataset. We can reference the location for each patient using the H1, H2, and H3\n",
    "labels, and we can store the address and identifier of the hospital in a hospital table:'''\n",
    "\n",
    "hospitals = pd.DataFrame(\n",
    "{ \"name\" : [\"City 1\", \"City 2\", \"City 3\"],\n",
    "\"address\" : [\"Address 1\", \"Address 2\", \"Address 3\"],\n",
    "\"city\": [\"City 1\", \"City 2\", \"City 3\"] },\n",
    "index=[\"H1\", \"H2\", \"H3\"])\n",
    "\n",
    "hospitals"
   ]
  },
  {
   "cell_type": "code",
   "execution_count": 99,
   "metadata": {},
   "outputs": [
    {
     "data": {
      "text/html": [
       "<div>\n",
       "<style>\n",
       "    .dataframe thead tr:only-child th {\n",
       "        text-align: right;\n",
       "    }\n",
       "\n",
       "    .dataframe thead th {\n",
       "        text-align: left;\n",
       "    }\n",
       "\n",
       "    .dataframe tbody tr th {\n",
       "        vertical-align: top;\n",
       "    }\n",
       "</style>\n",
       "<table border=\"1\" class=\"dataframe\">\n",
       "  <thead>\n",
       "    <tr style=\"text-align: right;\">\n",
       "      <th></th>\n",
       "      <th>dia_final</th>\n",
       "      <th>dia_initial</th>\n",
       "      <th>drug_admst</th>\n",
       "      <th>sys_final</th>\n",
       "      <th>sys_initial</th>\n",
       "      <th>hospital_id</th>\n",
       "    </tr>\n",
       "  </thead>\n",
       "  <tbody>\n",
       "    <tr>\n",
       "      <th>a</th>\n",
       "      <td>70</td>\n",
       "      <td>75</td>\n",
       "      <td>True</td>\n",
       "      <td>115</td>\n",
       "      <td>NaN</td>\n",
       "      <td>H1</td>\n",
       "    </tr>\n",
       "    <tr>\n",
       "      <th>b</th>\n",
       "      <td>82</td>\n",
       "      <td>85</td>\n",
       "      <td>True</td>\n",
       "      <td>123</td>\n",
       "      <td>126.0</td>\n",
       "      <td>H2</td>\n",
       "    </tr>\n",
       "    <tr>\n",
       "      <th>c</th>\n",
       "      <td>92</td>\n",
       "      <td>90</td>\n",
       "      <td>True</td>\n",
       "      <td>130</td>\n",
       "      <td>130.0</td>\n",
       "      <td>H2</td>\n",
       "    </tr>\n",
       "    <tr>\n",
       "      <th>d</th>\n",
       "      <td>87</td>\n",
       "      <td>87</td>\n",
       "      <td>True</td>\n",
       "      <td>118</td>\n",
       "      <td>115.0</td>\n",
       "      <td>H3</td>\n",
       "    </tr>\n",
       "    <tr>\n",
       "      <th>e</th>\n",
       "      <td>85</td>\n",
       "      <td>90</td>\n",
       "      <td>False</td>\n",
       "      <td>130</td>\n",
       "      <td>150.0</td>\n",
       "      <td>H3</td>\n",
       "    </tr>\n",
       "    <tr>\n",
       "      <th>f</th>\n",
       "      <td>74</td>\n",
       "      <td>74</td>\n",
       "      <td>False</td>\n",
       "      <td>121</td>\n",
       "      <td>117.0</td>\n",
       "      <td>H3</td>\n",
       "    </tr>\n",
       "  </tbody>\n",
       "</table>\n",
       "</div>"
      ],
      "text/plain": [
       "   dia_final  dia_initial  drug_admst  sys_final  sys_initial hospital_id\n",
       "a         70           75        True        115          NaN          H1\n",
       "b         82           85        True        123        126.0          H2\n",
       "c         92           90        True        130        130.0          H2\n",
       "d         87           87        True        118        115.0          H3\n",
       "e         85           90       False        130        150.0          H3\n",
       "f         74           74       False        121        117.0          H3"
      ]
     },
     "execution_count": 99,
     "metadata": {},
     "output_type": "execute_result"
    }
   ],
   "source": [
    "hospital_id = [\"H1\", \"H2\", \"H2\", \"H3\", \"H3\", \"H3\"]\n",
    "df['hospital_id'] = hospital_id\n",
    "df"
   ]
  },
  {
   "cell_type": "code",
   "execution_count": 101,
   "metadata": {},
   "outputs": [
    {
     "data": {
      "text/plain": [
       "H1    City 1\n",
       "H2    City 2\n",
       "H2    City 2\n",
       "H3    City 3\n",
       "H3    City 3\n",
       "H3    City 3\n",
       "Name: city, dtype: object"
      ]
     },
     "execution_count": 101,
     "metadata": {},
     "output_type": "execute_result"
    }
   ],
   "source": [
    "# Now, we want to find the city where the measure was taken for each patient.\n",
    "# Pandas allows you to encode the same operation using simple indexing; the\n",
    "# advantage is that the join will be performed in heavily optimized Cython and with efficient\n",
    "# hashing algorithms.\n",
    "\n",
    "cities = hospitals.loc[hospital_id, \"city\"]\n",
    "cities"
   ]
  },
  {
   "cell_type": "code",
   "execution_count": 102,
   "metadata": {},
   "outputs": [
    {
     "data": {
      "text/plain": [
       "Index(['dia_final', 'dia_initial', 'drug_admst', 'sys_final', 'sys_initial',\n",
       "       'hospital_id', 'address', 'city', 'name'],\n",
       "      dtype='object')"
      ]
     },
     "execution_count": 102,
     "metadata": {},
     "output_type": "execute_result"
    }
   ],
   "source": [
    "'''More advanced joins can also be performed with the pd.DataFrame.join method,\n",
    "which will produce a new pd.DataFrame that will attach the hospital information for each\n",
    "patient:'''\n",
    "result = df.join(hospitals, on='hospital_id')\n",
    "result.columns"
   ]
  },
  {
   "cell_type": "code",
   "execution_count": 103,
   "metadata": {},
   "outputs": [
    {
     "data": {
      "text/html": [
       "<div>\n",
       "<style>\n",
       "    .dataframe thead tr:only-child th {\n",
       "        text-align: right;\n",
       "    }\n",
       "\n",
       "    .dataframe thead th {\n",
       "        text-align: left;\n",
       "    }\n",
       "\n",
       "    .dataframe tbody tr th {\n",
       "        vertical-align: top;\n",
       "    }\n",
       "</style>\n",
       "<table border=\"1\" class=\"dataframe\">\n",
       "  <thead>\n",
       "    <tr style=\"text-align: right;\">\n",
       "      <th></th>\n",
       "      <th>dia_final</th>\n",
       "      <th>dia_initial</th>\n",
       "      <th>drug_admst</th>\n",
       "      <th>sys_final</th>\n",
       "      <th>sys_initial</th>\n",
       "      <th>hospital_id</th>\n",
       "      <th>address</th>\n",
       "      <th>city</th>\n",
       "      <th>name</th>\n",
       "    </tr>\n",
       "  </thead>\n",
       "  <tbody>\n",
       "    <tr>\n",
       "      <th>a</th>\n",
       "      <td>70</td>\n",
       "      <td>75</td>\n",
       "      <td>True</td>\n",
       "      <td>115</td>\n",
       "      <td>NaN</td>\n",
       "      <td>H1</td>\n",
       "      <td>Address 1</td>\n",
       "      <td>City 1</td>\n",
       "      <td>City 1</td>\n",
       "    </tr>\n",
       "    <tr>\n",
       "      <th>b</th>\n",
       "      <td>82</td>\n",
       "      <td>85</td>\n",
       "      <td>True</td>\n",
       "      <td>123</td>\n",
       "      <td>126.0</td>\n",
       "      <td>H2</td>\n",
       "      <td>Address 2</td>\n",
       "      <td>City 2</td>\n",
       "      <td>City 2</td>\n",
       "    </tr>\n",
       "    <tr>\n",
       "      <th>c</th>\n",
       "      <td>92</td>\n",
       "      <td>90</td>\n",
       "      <td>True</td>\n",
       "      <td>130</td>\n",
       "      <td>130.0</td>\n",
       "      <td>H2</td>\n",
       "      <td>Address 2</td>\n",
       "      <td>City 2</td>\n",
       "      <td>City 2</td>\n",
       "    </tr>\n",
       "    <tr>\n",
       "      <th>d</th>\n",
       "      <td>87</td>\n",
       "      <td>87</td>\n",
       "      <td>True</td>\n",
       "      <td>118</td>\n",
       "      <td>115.0</td>\n",
       "      <td>H3</td>\n",
       "      <td>Address 3</td>\n",
       "      <td>City 3</td>\n",
       "      <td>City 3</td>\n",
       "    </tr>\n",
       "    <tr>\n",
       "      <th>e</th>\n",
       "      <td>85</td>\n",
       "      <td>90</td>\n",
       "      <td>False</td>\n",
       "      <td>130</td>\n",
       "      <td>150.0</td>\n",
       "      <td>H3</td>\n",
       "      <td>Address 3</td>\n",
       "      <td>City 3</td>\n",
       "      <td>City 3</td>\n",
       "    </tr>\n",
       "    <tr>\n",
       "      <th>f</th>\n",
       "      <td>74</td>\n",
       "      <td>74</td>\n",
       "      <td>False</td>\n",
       "      <td>121</td>\n",
       "      <td>117.0</td>\n",
       "      <td>H3</td>\n",
       "      <td>Address 3</td>\n",
       "      <td>City 3</td>\n",
       "      <td>City 3</td>\n",
       "    </tr>\n",
       "  </tbody>\n",
       "</table>\n",
       "</div>"
      ],
      "text/plain": [
       "   dia_final  dia_initial  drug_admst  sys_final  sys_initial hospital_id  \\\n",
       "a         70           75        True        115          NaN          H1   \n",
       "b         82           85        True        123        126.0          H2   \n",
       "c         92           90        True        130        130.0          H2   \n",
       "d         87           87        True        118        115.0          H3   \n",
       "e         85           90       False        130        150.0          H3   \n",
       "f         74           74       False        121        117.0          H3   \n",
       "\n",
       "     address    city    name  \n",
       "a  Address 1  City 1  City 1  \n",
       "b  Address 2  City 2  City 2  \n",
       "c  Address 2  City 2  City 2  \n",
       "d  Address 3  City 3  City 3  \n",
       "e  Address 3  City 3  City 3  \n",
       "f  Address 3  City 3  City 3  "
      ]
     },
     "execution_count": 103,
     "metadata": {},
     "output_type": "execute_result"
    }
   ],
   "source": [
    "result"
   ]
  }
 ],
 "metadata": {
  "kernelspec": {
   "display_name": "Python 3",
   "language": "python",
   "name": "python3"
  },
  "language_info": {
   "codemirror_mode": {
    "name": "ipython",
    "version": 3
   },
   "file_extension": ".py",
   "mimetype": "text/x-python",
   "name": "python",
   "nbconvert_exporter": "python",
   "pygments_lexer": "ipython3",
   "version": "3.6.2"
  }
 },
 "nbformat": 4,
 "nbformat_minor": 2
}
