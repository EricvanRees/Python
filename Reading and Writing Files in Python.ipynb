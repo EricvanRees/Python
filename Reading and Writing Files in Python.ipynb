{
 "cells": [
  {
   "cell_type": "markdown",
   "metadata": {},
   "source": [
    "<h1>Reading a Text File in Python</h1>"
   ]
  },
  {
   "cell_type": "code",
   "execution_count": 2,
   "metadata": {},
   "outputs": [
    {
     "name": "stdout",
     "output_type": "stream",
     "text": [
      "2\n",
      "3\n",
      "5\n"
     ]
    }
   ],
   "source": [
    "''' use open function to open files. The syntax to open a file object in Python is: \n",
    "\n",
    "file_object  = open(“filename”, “mode”) \n",
    "\n",
    ", where file_object is the variable to add the file object. The second argument you see – mode – \n",
    "tells the interpreter and developer which way the file will be used. Including a mode argument is optional \n",
    "because a default value of ‘r’ will be assumed if it is omitted. \n",
    "The ‘r’ value stands for read mode, which is just one of many. \n",
    "\n",
    "The modes are: \n",
    "\n",
    "‘r’ – Read mode which is used when the file is only being read \n",
    "‘w’ – Write mode which is used to edit and write new information to the file (any existing files with the same \n",
    "name will be erased when this mode is activated) \n",
    "‘a’ – Appending mode, which is used to add new data to the end of the file; that is new information is \n",
    "automatically amended to the end \n",
    "‘r+’ – Special read and write mode, which is used to handle both actions when working with a file '''\n",
    "\n",
    "# open a file in read mode\n",
    "f = open(\"primenumbers.txt\", \"r\")\n",
    "# print first five characters ( = 3 numbers and two enters)\n",
    "print(f.read(5))"
   ]
  },
  {
   "cell_type": "code",
   "execution_count": 12,
   "metadata": {},
   "outputs": [
    {
     "name": "stdout",
     "output_type": "stream",
     "text": [
      "2\n",
      "\n"
     ]
    }
   ],
   "source": [
    "# If you want to read a file line by line – as opposed to pulling the content of the entire file at once – \n",
    "# then you use the readline() function. This code opens the file and prints the first line\n",
    "f = open(\"primenumbers.txt\", \"r\")\n",
    "print(f.readline())"
   ]
  },
  {
   "cell_type": "code",
   "execution_count": 16,
   "metadata": {},
   "outputs": [
    {
     "name": "stdout",
     "output_type": "stream",
     "text": [
      "['2\\n', '3\\n', '5\\n', '7\\n', '11\\n', '13\\n', '17\\n', '19\\n', '23\\n', '29 \\n', '31\\n', '37\\n', '41\\n', '43\\n', '47\\n', '53\\n', '59\\n', '61\\n', '67\\n', '71 \\n', '73\\n', '79\\n', '83\\n', '89\\n', '97\\n', '101\\n', '103\\n', '107\\n', '109\\n', '113 \\n', '127\\n', '131\\n', '137\\n', '139\\n', '149\\n', '151\\n', '157\\n', '163\\n', '167\\n', '173 \\n', '179\\n', '181\\n', '191\\n', '193\\n', '197\\n', '199\\n', '211\\n', '223\\n', '227\\n', '229 \\n', '233\\n', '239\\n', '241\\n', '251\\n', '257\\n', '263\\n', '269\\n', '271\\n', '277\\n', '281 \\n', '283\\n', '293\\n', '307\\n', '311\\n', '313\\n', '317\\n', '331\\n', '337\\n', '347\\n', '349 \\n', '353\\n', '359\\n', '367\\n', '373\\n', '379\\n', '383\\n', '389\\n', '397\\n', '401\\n', '409 \\n', '419\\n', '421\\n', '431\\n', '433\\n', '439\\n', '443\\n', '449\\n', '457\\n', '461\\n', '463 \\n', '467\\n', '479\\n', '487\\n', '491\\n', '499\\n', '503\\n', '509\\n', '521\\n', '523\\n', '541 \\n', '547\\n', '557\\n', '563\\n', '569\\n', '571\\n', '577\\n', '587\\n', '593\\n', '599\\n', '601 \\n', '607\\n', '613\\n', '617\\n', '619\\n', '631\\n', '641\\n', '643\\n', '647\\n', '653\\n', '659 \\n', '661\\n', '673\\n', '677\\n', '683\\n', '691\\n', '701\\n', '709\\n', '719\\n', '727\\n', '733 \\n', '739\\n', '743\\n', '751\\n', '757\\n', '761\\n', '769\\n', '773\\n', '787\\n', '797\\n', '809 \\n', '811\\n', '821\\n', '823\\n', '827\\n', '829\\n', '839\\n', '853\\n', '857\\n', '859\\n', '863 \\n', '877\\n', '881\\n', '883\\n', '887\\n', '907\\n', '911\\n', '919\\n', '929\\n', '937\\n', '941 \\n', '947\\n', '953\\n', '967\\n', '971\\n', '977\\n', '983\\n', '991\\n', '997']\n"
     ]
    }
   ],
   "source": [
    "# But what if we wanted to return every line in the file, properly separated? \n",
    "# You would use the same function, only in a new form.  \n",
    "f = open(\"primenumbers.txt\", \"r\")\n",
    "print(f.readlines())"
   ]
  },
  {
   "cell_type": "markdown",
   "metadata": {},
   "source": [
    "<h1>Looping over a file object</h1>"
   ]
  },
  {
   "cell_type": "code",
   "execution_count": 22,
   "metadata": {},
   "outputs": [
    {
     "name": "stdout",
     "output_type": "stream",
     "text": [
      "2\n",
      "3\n",
      "5\n",
      "7\n",
      "11\n",
      "13\n",
      "17\n",
      "19\n",
      "23\n",
      "29 \n",
      "31\n",
      "37\n",
      "41\n",
      "43\n",
      "47\n",
      "53\n",
      "59\n",
      "61\n",
      "67\n",
      "71 \n",
      "73\n",
      "79\n",
      "83\n",
      "89\n",
      "97\n",
      "101\n",
      "103\n",
      "107\n",
      "109\n",
      "113 \n",
      "127\n",
      "131\n",
      "137\n",
      "139\n",
      "149\n",
      "151\n",
      "157\n",
      "163\n",
      "167\n",
      "173 \n",
      "179\n",
      "181\n",
      "191\n",
      "193\n",
      "197\n",
      "199\n",
      "211\n",
      "223\n",
      "227\n",
      "229 \n",
      "233\n",
      "239\n",
      "241\n",
      "251\n",
      "257\n",
      "263\n",
      "269\n",
      "271\n",
      "277\n",
      "281 \n",
      "283\n",
      "293\n",
      "307\n",
      "311\n",
      "313\n",
      "317\n",
      "331\n",
      "337\n",
      "347\n",
      "349 \n",
      "353\n",
      "359\n",
      "367\n",
      "373\n",
      "379\n",
      "383\n",
      "389\n",
      "397\n",
      "401\n",
      "409 \n",
      "419\n",
      "421\n",
      "431\n",
      "433\n",
      "439\n",
      "443\n",
      "449\n",
      "457\n",
      "461\n",
      "463 \n",
      "467\n",
      "479\n",
      "487\n",
      "491\n",
      "499\n",
      "503\n",
      "509\n",
      "521\n",
      "523\n",
      "541 \n",
      "547\n",
      "557\n",
      "563\n",
      "569\n",
      "571\n",
      "577\n",
      "587\n",
      "593\n",
      "599\n",
      "601 \n",
      "607\n",
      "613\n",
      "617\n",
      "619\n",
      "631\n",
      "641\n",
      "643\n",
      "647\n",
      "653\n",
      "659 \n",
      "661\n",
      "673\n",
      "677\n",
      "683\n",
      "691\n",
      "701\n",
      "709\n",
      "719\n",
      "727\n",
      "733 \n",
      "739\n",
      "743\n",
      "751\n",
      "757\n",
      "761\n",
      "769\n",
      "773\n",
      "787\n",
      "797\n",
      "809 \n",
      "811\n",
      "821\n",
      "823\n",
      "827\n",
      "829\n",
      "839\n",
      "853\n",
      "857\n",
      "859\n",
      "863 \n",
      "877\n",
      "881\n",
      "883\n",
      "887\n",
      "907\n",
      "911\n",
      "919\n",
      "929\n",
      "937\n",
      "941 \n",
      "947\n",
      "953\n",
      "967\n",
      "971\n",
      "977\n",
      "983\n",
      "991\n",
      "997"
     ]
    }
   ],
   "source": [
    "# use a for loop to iterate over lines:\n",
    "f = open(\"primenumbers.txt\", \"r\") \n",
    "for line in f:\n",
    "    print(line, end='') "
   ]
  },
  {
   "cell_type": "markdown",
   "metadata": {},
   "source": [
    "<h1>Writing a text file</h1>"
   ]
  },
  {
   "cell_type": "code",
   "execution_count": 45,
   "metadata": {},
   "outputs": [],
   "source": [
    "file = open(\"testfile.txt\",\"w\") \n",
    " \n",
    "file.write(\"Hello World \\n\") \n",
    "file.write(\"This is our new text file \\n\") \n",
    "file.write(\"and this is another line. \\n\") \n",
    "file.write(\"Why? Because we can. \\n\") \n",
    " \n",
    "file.close() "
   ]
  },
  {
   "cell_type": "markdown",
   "metadata": {},
   "source": [
    "<h1>Reading a Text File in Python</h1>"
   ]
  },
  {
   "cell_type": "code",
   "execution_count": 46,
   "metadata": {},
   "outputs": [
    {
     "name": "stdout",
     "output_type": "stream",
     "text": [
      "Hello World \n",
      "This is our new text file \n",
      "and this is another line. \n",
      "Why? Because we can. \n",
      "\n"
     ]
    }
   ],
   "source": [
    "file = open(\"testfile.txt\", \"r\") \n",
    "print(file.read())"
   ]
  },
  {
   "cell_type": "code",
   "execution_count": 47,
   "metadata": {},
   "outputs": [
    {
     "name": "stdout",
     "output_type": "stream",
     "text": [
      "['Hello World \\n', 'This is our new text file \\n', 'and this is another line. \\n', 'Why? Because we can. \\n']\n"
     ]
    }
   ],
   "source": [
    "file = open(\"testfile.txt\", \"r\") \n",
    "print(file.readlines())"
   ]
  },
  {
   "cell_type": "markdown",
   "metadata": {},
   "source": [
    "<h1>Looping over a file object</h1>"
   ]
  },
  {
   "cell_type": "code",
   "execution_count": 49,
   "metadata": {},
   "outputs": [
    {
     "name": "stdout",
     "output_type": "stream",
     "text": [
      "Hello World \n",
      "This is our new text file \n",
      "and this is another line. \n",
      "Why? Because we can. \n"
     ]
    }
   ],
   "source": [
    "file = open(\"testfile.txt\", \"r\") \n",
    "for line in file: \n",
    "    print(line, end='')\n",
    "file.close()"
   ]
  }
 ],
 "metadata": {
  "kernelspec": {
   "display_name": "Python 3",
   "language": "python",
   "name": "python3"
  },
  "language_info": {
   "codemirror_mode": {
    "name": "ipython",
    "version": 3
   },
   "file_extension": ".py",
   "mimetype": "text/x-python",
   "name": "python",
   "nbconvert_exporter": "python",
   "pygments_lexer": "ipython3",
   "version": "3.6.2"
  }
 },
 "nbformat": 4,
 "nbformat_minor": 2
}
