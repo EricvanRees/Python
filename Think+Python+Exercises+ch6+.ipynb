{
 "cells": [
  {
   "cell_type": "markdown",
   "metadata": {},
   "source": [
    "<h3>Exercises</h3>"
   ]
  },
  {
   "cell_type": "code",
   "execution_count": 30,
   "metadata": {},
   "outputs": [
    {
     "name": "stdout",
     "output_type": "stream",
     "text": [
      "                    x=1 y=2 z=3\n",
      "                    total is 6\n",
      "          x=6 y=6\n",
      "          x + 1 is 8\n",
      "          x * y is 42\n",
      "z: 6, prod: 42\n",
      "                    square is 1764\n",
      "1764\n"
     ]
    }
   ],
   "source": [
    "# Exercise 6.4 Draw a stack diagram for the following program. What does the program print?\n",
    "\n",
    "def b(z):\n",
    "    prod = a(z, z)\n",
    "    print(\"z: %s, prod: %s\" % (z, prod))\n",
    "    return prod\n",
    "\n",
    "def a(x, y):\n",
    "    print(\"          x=%s y=%s\" % (x, y))\n",
    "    x = x + 1\n",
    "    print(\"          x + 1 is %s\" % (x + 1))\n",
    "    print(\"          x * y is %s\" % (x * y))\n",
    "    return x * y\n",
    "\n",
    "def c(x, y, z):\n",
    "    print(\"                    x=%s y=%s z=%s\" % (x, y, z))\n",
    "    total = x + y + z\n",
    "    print(\"                    total is %s\" % (total))\n",
    "    square = b(total)**2 \n",
    "    print(\"                    square is %s\" %(square))\n",
    "    return square\n",
    "\n",
    "x = 1\n",
    "y = x + 1\n",
    "\n",
    "print(c(x, y, x+y))"
   ]
  },
  {
   "cell_type": "code",
   "execution_count": 29,
   "metadata": {},
   "outputs": [
    {
     "data": {
      "text/plain": [
       "42.0"
      ]
     },
     "execution_count": 29,
     "metadata": {},
     "output_type": "execute_result"
    }
   ],
   "source": [
    "import math\n",
    "math.sqrt(1764)"
   ]
  },
  {
   "cell_type": "code",
   "execution_count": 38,
   "metadata": {},
   "outputs": [
    {
     "name": "stdout",
     "output_type": "stream",
     "text": [
      "125\n"
     ]
    }
   ],
   "source": [
    "# exercise 6.5\n",
    "\n",
    "def Ackermann(m, n):\n",
    "    if m == 0:\n",
    "        return n + 1\n",
    "    if n == 0:\n",
    "        return Ackermann(m-1, 1)\n",
    "    return Ackermann(m - 1, Ackermann(m, n-1))\n",
    "    \n",
    "print(Ackermann(3,4))"
   ]
  }
 ],
 "metadata": {
  "kernelspec": {
   "display_name": "Python 3",
   "language": "python",
   "name": "python3"
  },
  "language_info": {
   "codemirror_mode": {
    "name": "ipython",
    "version": 3
   },
   "file_extension": ".py",
   "mimetype": "text/x-python",
   "name": "python",
   "nbconvert_exporter": "python",
   "pygments_lexer": "ipython3",
   "version": "3.6.2"
  }
 },
 "nbformat": 4,
 "nbformat_minor": 2
}
